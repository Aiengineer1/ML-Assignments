{
  "cells": [
    {
      "cell_type": "markdown",
      "metadata": {
        "id": "Bq6RjifeTugY"
      },
      "source": [
        "Import Libraries"
      ]
    },
    {
      "cell_type": "code",
      "execution_count": null,
      "metadata": {
        "colab": {
          "base_uri": "https://localhost:8080/"
        },
        "id": "KnGff-54UAnK",
        "outputId": "8abf5dd1-56a4-49f5-8abf-23e7321f567e"
      },
      "outputs": [
        {
          "name": "stdout",
          "output_type": "stream",
          "text": [
            "Collecting catboost\n",
            "  Downloading catboost-1.2.2-cp310-cp310-manylinux2014_x86_64.whl (98.7 MB)\n",
            "\u001b[2K     \u001b[90m━━━━━━━━━━━━━━━━━━━━━━━━━━━━━━━━━━━━━━━━\u001b[0m \u001b[32m98.7/98.7 MB\u001b[0m \u001b[31m8.7 MB/s\u001b[0m eta \u001b[36m0:00:00\u001b[0m\n",
            "\u001b[?25hRequirement already satisfied: graphviz in /usr/local/lib/python3.10/dist-packages (from catboost) (0.20.1)\n",
            "Requirement already satisfied: matplotlib in /usr/local/lib/python3.10/dist-packages (from catboost) (3.7.1)\n",
            "Requirement already satisfied: numpy>=1.16.0 in /usr/local/lib/python3.10/dist-packages (from catboost) (1.23.5)\n",
            "Requirement already satisfied: pandas>=0.24 in /usr/local/lib/python3.10/dist-packages (from catboost) (1.5.3)\n",
            "Requirement already satisfied: scipy in /usr/local/lib/python3.10/dist-packages (from catboost) (1.11.4)\n",
            "Requirement already satisfied: plotly in /usr/local/lib/python3.10/dist-packages (from catboost) (5.15.0)\n",
            "Requirement already satisfied: six in /usr/local/lib/python3.10/dist-packages (from catboost) (1.16.0)\n",
            "Requirement already satisfied: python-dateutil>=2.8.1 in /usr/local/lib/python3.10/dist-packages (from pandas>=0.24->catboost) (2.8.2)\n",
            "Requirement already satisfied: pytz>=2020.1 in /usr/local/lib/python3.10/dist-packages (from pandas>=0.24->catboost) (2023.3.post1)\n",
            "Requirement already satisfied: contourpy>=1.0.1 in /usr/local/lib/python3.10/dist-packages (from matplotlib->catboost) (1.2.0)\n",
            "Requirement already satisfied: cycler>=0.10 in /usr/local/lib/python3.10/dist-packages (from matplotlib->catboost) (0.12.1)\n",
            "Requirement already satisfied: fonttools>=4.22.0 in /usr/local/lib/python3.10/dist-packages (from matplotlib->catboost) (4.46.0)\n",
            "Requirement already satisfied: kiwisolver>=1.0.1 in /usr/local/lib/python3.10/dist-packages (from matplotlib->catboost) (1.4.5)\n",
            "Requirement already satisfied: packaging>=20.0 in /usr/local/lib/python3.10/dist-packages (from matplotlib->catboost) (23.2)\n",
            "Requirement already satisfied: pillow>=6.2.0 in /usr/local/lib/python3.10/dist-packages (from matplotlib->catboost) (9.4.0)\n",
            "Requirement already satisfied: pyparsing>=2.3.1 in /usr/local/lib/python3.10/dist-packages (from matplotlib->catboost) (3.1.1)\n",
            "Requirement already satisfied: tenacity>=6.2.0 in /usr/local/lib/python3.10/dist-packages (from plotly->catboost) (8.2.3)\n",
            "Installing collected packages: catboost\n",
            "Successfully installed catboost-1.2.2\n"
          ]
        }
      ],
      "source": [
        "!pip install catboost"
      ]
    },
    {
      "cell_type": "markdown",
      "metadata": {
        "id": "PC_vXmbZp61t"
      },
      "source": [
        "https://www.kaggle.com/datasets/pablomgomez21/drugs-a-b-c-x-y-for-decision-trees"
      ]
    },
    {
      "cell_type": "code",
      "execution_count": null,
      "metadata": {
        "id": "_HhUG1unTlNq"
      },
      "outputs": [],
      "source": [
        "import numpy as np\n",
        "import pandas as pd\n",
        "from sklearn.model_selection import train_test_split\n",
        "from sklearn.tree import DecisionTreeClassifier\n",
        "from sklearn.preprocessing import LabelEncoder, StandardScaler\n",
        "from sklearn.ensemble import RandomForestClassifier\n",
        "from xgboost import XGBClassifier\n",
        "from catboost import CatBoostClassifier\n",
        "from sklearn import metrics\n",
        "from sklearn.metrics import accuracy_score, classification_report"
      ]
    },
    {
      "cell_type": "markdown",
      "metadata": {
        "id": "aw_-8TzkTy4O"
      },
      "source": [
        "Read CSV File"
      ]
    },
    {
      "cell_type": "code",
      "execution_count": 86,
      "metadata": {
        "id": "APLyiXD_UVq_"
      },
      "outputs": [],
      "source": [
        "data=pd.read_csv(\"/content/drug.csv\")"
      ]
    },
    {
      "cell_type": "code",
      "execution_count": 87,
      "metadata": {
        "colab": {
          "base_uri": "https://localhost:8080/",
          "height": 206
        },
        "id": "1n7BFCoVeKyx",
        "outputId": "ae208b77-dc2b-49ab-c194-67cafb21af5e"
      },
      "outputs": [
        {
          "data": {
            "text/html": [
              "\n",
              "  <div id=\"df-10dacecb-196b-4a70-90b2-a7c20df5e0f8\" class=\"colab-df-container\">\n",
              "    <div>\n",
              "<style scoped>\n",
              "    .dataframe tbody tr th:only-of-type {\n",
              "        vertical-align: middle;\n",
              "    }\n",
              "\n",
              "    .dataframe tbody tr th {\n",
              "        vertical-align: top;\n",
              "    }\n",
              "\n",
              "    .dataframe thead th {\n",
              "        text-align: right;\n",
              "    }\n",
              "</style>\n",
              "<table border=\"1\" class=\"dataframe\">\n",
              "  <thead>\n",
              "    <tr style=\"text-align: right;\">\n",
              "      <th></th>\n",
              "      <th>Age</th>\n",
              "      <th>Sex</th>\n",
              "      <th>BP</th>\n",
              "      <th>Cholesterol</th>\n",
              "      <th>Na_to_K</th>\n",
              "      <th>Drug</th>\n",
              "    </tr>\n",
              "  </thead>\n",
              "  <tbody>\n",
              "    <tr>\n",
              "      <th>0</th>\n",
              "      <td>23</td>\n",
              "      <td>F</td>\n",
              "      <td>HIGH</td>\n",
              "      <td>HIGH</td>\n",
              "      <td>25.355</td>\n",
              "      <td>drugY</td>\n",
              "    </tr>\n",
              "    <tr>\n",
              "      <th>1</th>\n",
              "      <td>47</td>\n",
              "      <td>M</td>\n",
              "      <td>LOW</td>\n",
              "      <td>HIGH</td>\n",
              "      <td>13.093</td>\n",
              "      <td>drugC</td>\n",
              "    </tr>\n",
              "    <tr>\n",
              "      <th>2</th>\n",
              "      <td>47</td>\n",
              "      <td>M</td>\n",
              "      <td>LOW</td>\n",
              "      <td>HIGH</td>\n",
              "      <td>10.114</td>\n",
              "      <td>drugC</td>\n",
              "    </tr>\n",
              "    <tr>\n",
              "      <th>3</th>\n",
              "      <td>28</td>\n",
              "      <td>F</td>\n",
              "      <td>NORMAL</td>\n",
              "      <td>HIGH</td>\n",
              "      <td>7.798</td>\n",
              "      <td>drugX</td>\n",
              "    </tr>\n",
              "    <tr>\n",
              "      <th>4</th>\n",
              "      <td>61</td>\n",
              "      <td>F</td>\n",
              "      <td>LOW</td>\n",
              "      <td>HIGH</td>\n",
              "      <td>18.043</td>\n",
              "      <td>drugY</td>\n",
              "    </tr>\n",
              "  </tbody>\n",
              "</table>\n",
              "</div>\n",
              "    <div class=\"colab-df-buttons\">\n",
              "\n",
              "  <div class=\"colab-df-container\">\n",
              "    <button class=\"colab-df-convert\" onclick=\"convertToInteractive('df-10dacecb-196b-4a70-90b2-a7c20df5e0f8')\"\n",
              "            title=\"Convert this dataframe to an interactive table.\"\n",
              "            style=\"display:none;\">\n",
              "\n",
              "  <svg xmlns=\"http://www.w3.org/2000/svg\" height=\"24px\" viewBox=\"0 -960 960 960\">\n",
              "    <path d=\"M120-120v-720h720v720H120Zm60-500h600v-160H180v160Zm220 220h160v-160H400v160Zm0 220h160v-160H400v160ZM180-400h160v-160H180v160Zm440 0h160v-160H620v160ZM180-180h160v-160H180v160Zm440 0h160v-160H620v160Z\"/>\n",
              "  </svg>\n",
              "    </button>\n",
              "\n",
              "  <style>\n",
              "    .colab-df-container {\n",
              "      display:flex;\n",
              "      gap: 12px;\n",
              "    }\n",
              "\n",
              "    .colab-df-convert {\n",
              "      background-color: #E8F0FE;\n",
              "      border: none;\n",
              "      border-radius: 50%;\n",
              "      cursor: pointer;\n",
              "      display: none;\n",
              "      fill: #1967D2;\n",
              "      height: 32px;\n",
              "      padding: 0 0 0 0;\n",
              "      width: 32px;\n",
              "    }\n",
              "\n",
              "    .colab-df-convert:hover {\n",
              "      background-color: #E2EBFA;\n",
              "      box-shadow: 0px 1px 2px rgba(60, 64, 67, 0.3), 0px 1px 3px 1px rgba(60, 64, 67, 0.15);\n",
              "      fill: #174EA6;\n",
              "    }\n",
              "\n",
              "    .colab-df-buttons div {\n",
              "      margin-bottom: 4px;\n",
              "    }\n",
              "\n",
              "    [theme=dark] .colab-df-convert {\n",
              "      background-color: #3B4455;\n",
              "      fill: #D2E3FC;\n",
              "    }\n",
              "\n",
              "    [theme=dark] .colab-df-convert:hover {\n",
              "      background-color: #434B5C;\n",
              "      box-shadow: 0px 1px 3px 1px rgba(0, 0, 0, 0.15);\n",
              "      filter: drop-shadow(0px 1px 2px rgba(0, 0, 0, 0.3));\n",
              "      fill: #FFFFFF;\n",
              "    }\n",
              "  </style>\n",
              "\n",
              "    <script>\n",
              "      const buttonEl =\n",
              "        document.querySelector('#df-10dacecb-196b-4a70-90b2-a7c20df5e0f8 button.colab-df-convert');\n",
              "      buttonEl.style.display =\n",
              "        google.colab.kernel.accessAllowed ? 'block' : 'none';\n",
              "\n",
              "      async function convertToInteractive(key) {\n",
              "        const element = document.querySelector('#df-10dacecb-196b-4a70-90b2-a7c20df5e0f8');\n",
              "        const dataTable =\n",
              "          await google.colab.kernel.invokeFunction('convertToInteractive',\n",
              "                                                    [key], {});\n",
              "        if (!dataTable) return;\n",
              "\n",
              "        const docLinkHtml = 'Like what you see? Visit the ' +\n",
              "          '<a target=\"_blank\" href=https://colab.research.google.com/notebooks/data_table.ipynb>data table notebook</a>'\n",
              "          + ' to learn more about interactive tables.';\n",
              "        element.innerHTML = '';\n",
              "        dataTable['output_type'] = 'display_data';\n",
              "        await google.colab.output.renderOutput(dataTable, element);\n",
              "        const docLink = document.createElement('div');\n",
              "        docLink.innerHTML = docLinkHtml;\n",
              "        element.appendChild(docLink);\n",
              "      }\n",
              "    </script>\n",
              "  </div>\n",
              "\n",
              "\n",
              "<div id=\"df-307e6059-120b-48eb-b82c-5707185122e6\">\n",
              "  <button class=\"colab-df-quickchart\" onclick=\"quickchart('df-307e6059-120b-48eb-b82c-5707185122e6')\"\n",
              "            title=\"Suggest charts\"\n",
              "            style=\"display:none;\">\n",
              "\n",
              "<svg xmlns=\"http://www.w3.org/2000/svg\" height=\"24px\"viewBox=\"0 0 24 24\"\n",
              "     width=\"24px\">\n",
              "    <g>\n",
              "        <path d=\"M19 3H5c-1.1 0-2 .9-2 2v14c0 1.1.9 2 2 2h14c1.1 0 2-.9 2-2V5c0-1.1-.9-2-2-2zM9 17H7v-7h2v7zm4 0h-2V7h2v10zm4 0h-2v-4h2v4z\"/>\n",
              "    </g>\n",
              "</svg>\n",
              "  </button>\n",
              "\n",
              "<style>\n",
              "  .colab-df-quickchart {\n",
              "      --bg-color: #E8F0FE;\n",
              "      --fill-color: #1967D2;\n",
              "      --hover-bg-color: #E2EBFA;\n",
              "      --hover-fill-color: #174EA6;\n",
              "      --disabled-fill-color: #AAA;\n",
              "      --disabled-bg-color: #DDD;\n",
              "  }\n",
              "\n",
              "  [theme=dark] .colab-df-quickchart {\n",
              "      --bg-color: #3B4455;\n",
              "      --fill-color: #D2E3FC;\n",
              "      --hover-bg-color: #434B5C;\n",
              "      --hover-fill-color: #FFFFFF;\n",
              "      --disabled-bg-color: #3B4455;\n",
              "      --disabled-fill-color: #666;\n",
              "  }\n",
              "\n",
              "  .colab-df-quickchart {\n",
              "    background-color: var(--bg-color);\n",
              "    border: none;\n",
              "    border-radius: 50%;\n",
              "    cursor: pointer;\n",
              "    display: none;\n",
              "    fill: var(--fill-color);\n",
              "    height: 32px;\n",
              "    padding: 0;\n",
              "    width: 32px;\n",
              "  }\n",
              "\n",
              "  .colab-df-quickchart:hover {\n",
              "    background-color: var(--hover-bg-color);\n",
              "    box-shadow: 0 1px 2px rgba(60, 64, 67, 0.3), 0 1px 3px 1px rgba(60, 64, 67, 0.15);\n",
              "    fill: var(--button-hover-fill-color);\n",
              "  }\n",
              "\n",
              "  .colab-df-quickchart-complete:disabled,\n",
              "  .colab-df-quickchart-complete:disabled:hover {\n",
              "    background-color: var(--disabled-bg-color);\n",
              "    fill: var(--disabled-fill-color);\n",
              "    box-shadow: none;\n",
              "  }\n",
              "\n",
              "  .colab-df-spinner {\n",
              "    border: 2px solid var(--fill-color);\n",
              "    border-color: transparent;\n",
              "    border-bottom-color: var(--fill-color);\n",
              "    animation:\n",
              "      spin 1s steps(1) infinite;\n",
              "  }\n",
              "\n",
              "  @keyframes spin {\n",
              "    0% {\n",
              "      border-color: transparent;\n",
              "      border-bottom-color: var(--fill-color);\n",
              "      border-left-color: var(--fill-color);\n",
              "    }\n",
              "    20% {\n",
              "      border-color: transparent;\n",
              "      border-left-color: var(--fill-color);\n",
              "      border-top-color: var(--fill-color);\n",
              "    }\n",
              "    30% {\n",
              "      border-color: transparent;\n",
              "      border-left-color: var(--fill-color);\n",
              "      border-top-color: var(--fill-color);\n",
              "      border-right-color: var(--fill-color);\n",
              "    }\n",
              "    40% {\n",
              "      border-color: transparent;\n",
              "      border-right-color: var(--fill-color);\n",
              "      border-top-color: var(--fill-color);\n",
              "    }\n",
              "    60% {\n",
              "      border-color: transparent;\n",
              "      border-right-color: var(--fill-color);\n",
              "    }\n",
              "    80% {\n",
              "      border-color: transparent;\n",
              "      border-right-color: var(--fill-color);\n",
              "      border-bottom-color: var(--fill-color);\n",
              "    }\n",
              "    90% {\n",
              "      border-color: transparent;\n",
              "      border-bottom-color: var(--fill-color);\n",
              "    }\n",
              "  }\n",
              "</style>\n",
              "\n",
              "  <script>\n",
              "    async function quickchart(key) {\n",
              "      const quickchartButtonEl =\n",
              "        document.querySelector('#' + key + ' button');\n",
              "      quickchartButtonEl.disabled = true;  // To prevent multiple clicks.\n",
              "      quickchartButtonEl.classList.add('colab-df-spinner');\n",
              "      try {\n",
              "        const charts = await google.colab.kernel.invokeFunction(\n",
              "            'suggestCharts', [key], {});\n",
              "      } catch (error) {\n",
              "        console.error('Error during call to suggestCharts:', error);\n",
              "      }\n",
              "      quickchartButtonEl.classList.remove('colab-df-spinner');\n",
              "      quickchartButtonEl.classList.add('colab-df-quickchart-complete');\n",
              "    }\n",
              "    (() => {\n",
              "      let quickchartButtonEl =\n",
              "        document.querySelector('#df-307e6059-120b-48eb-b82c-5707185122e6 button');\n",
              "      quickchartButtonEl.style.display =\n",
              "        google.colab.kernel.accessAllowed ? 'block' : 'none';\n",
              "    })();\n",
              "  </script>\n",
              "</div>\n",
              "    </div>\n",
              "  </div>\n"
            ],
            "text/plain": [
              "   Age Sex      BP Cholesterol  Na_to_K   Drug\n",
              "0   23   F    HIGH        HIGH   25.355  drugY\n",
              "1   47   M     LOW        HIGH   13.093  drugC\n",
              "2   47   M     LOW        HIGH   10.114  drugC\n",
              "3   28   F  NORMAL        HIGH    7.798  drugX\n",
              "4   61   F     LOW        HIGH   18.043  drugY"
            ]
          },
          "execution_count": 87,
          "metadata": {},
          "output_type": "execute_result"
        }
      ],
      "source": [
        "data.head()"
      ]
    },
    {
      "cell_type": "markdown",
      "metadata": {
        "id": "Wbw4uDqY2AA-"
      },
      "source": [
        "**Data Preprocessing**"
      ]
    },
    {
      "cell_type": "code",
      "execution_count": 88,
      "metadata": {
        "colab": {
          "base_uri": "https://localhost:8080/"
        },
        "id": "Z0uAc35HbegB",
        "outputId": "7dc4bdc2-2b07-4bb3-9cea-44f65a45bb36"
      },
      "outputs": [
        {
          "name": "stdout",
          "output_type": "stream",
          "text": [
            "Age            0\n",
            "Sex            0\n",
            "BP             0\n",
            "Cholesterol    0\n",
            "Na_to_K        0\n",
            "Drug           0\n",
            "dtype: int64\n"
          ]
        }
      ],
      "source": [
        "print(data.isnull().sum())\n"
      ]
    },
    {
      "cell_type": "code",
      "execution_count": 89,
      "metadata": {
        "colab": {
          "base_uri": "https://localhost:8080/"
        },
        "id": "ylR7NpajerdJ",
        "outputId": "e448bbda-a14f-49d0-bdcf-72cedf55c02a"
      },
      "outputs": [
        {
          "name": "stdout",
          "output_type": "stream",
          "text": [
            "Age             57\n",
            "Sex              2\n",
            "BP               3\n",
            "Cholesterol      2\n",
            "Na_to_K        198\n",
            "Drug             5\n",
            "dtype: int64\n"
          ]
        }
      ],
      "source": [
        "print(data.nunique())\n"
      ]
    },
    {
      "cell_type": "markdown",
      "metadata": {
        "id": "3CU2AobByQA8"
      },
      "source": [
        "Replace Missing Values"
      ]
    },
    {
      "cell_type": "code",
      "execution_count": 90,
      "metadata": {
        "colab": {
          "base_uri": "https://localhost:8080/"
        },
        "id": "Tsl7qPmTb6Dw",
        "outputId": "a9c854ab-3922-4c7e-871a-68e73c8211b7"
      },
      "outputs": [
        {
          "name": "stderr",
          "output_type": "stream",
          "text": [
            "<ipython-input-90-a20208f658ce>:1: FutureWarning: The default value of numeric_only in DataFrame.mean is deprecated. In a future version, it will default to False. In addition, specifying 'numeric_only=None' is deprecated. Select only valid columns or specify the value of numeric_only to silence this warning.\n",
            "  data.fillna(data.mean(), inplace=True)\n"
          ]
        }
      ],
      "source": [
        "#data.fillna(data.mean(), inplace=True)\n"
      ]
    },
    {
      "cell_type": "markdown",
      "metadata": {
        "id": "3y5MuAOryTa_"
      },
      "source": [
        "Encoding"
      ]
    },
    {
      "cell_type": "code",
      "execution_count": 91,
      "metadata": {
        "id": "4RpokJPlf-y8"
      },
      "outputs": [],
      "source": [
        "label_encoder = LabelEncoder()\n",
        "categorical_columns = ['Sex', 'BP', 'Cholesterol']\n",
        "for column in categorical_columns:\n",
        "    data[column] = label_encoder.fit_transform(data[column])\n"
      ]
    },
    {
      "cell_type": "code",
      "execution_count": 92,
      "metadata": {
        "colab": {
          "base_uri": "https://localhost:8080/",
          "height": 206
        },
        "id": "Gt0msmCGgQlz",
        "outputId": "32b5a3e0-152b-459b-b9d5-a4ce59ddf8de"
      },
      "outputs": [
        {
          "data": {
            "text/html": [
              "\n",
              "  <div id=\"df-2d47805b-b2ad-43d6-8731-a01c337ce668\" class=\"colab-df-container\">\n",
              "    <div>\n",
              "<style scoped>\n",
              "    .dataframe tbody tr th:only-of-type {\n",
              "        vertical-align: middle;\n",
              "    }\n",
              "\n",
              "    .dataframe tbody tr th {\n",
              "        vertical-align: top;\n",
              "    }\n",
              "\n",
              "    .dataframe thead th {\n",
              "        text-align: right;\n",
              "    }\n",
              "</style>\n",
              "<table border=\"1\" class=\"dataframe\">\n",
              "  <thead>\n",
              "    <tr style=\"text-align: right;\">\n",
              "      <th></th>\n",
              "      <th>Age</th>\n",
              "      <th>Sex</th>\n",
              "      <th>BP</th>\n",
              "      <th>Cholesterol</th>\n",
              "      <th>Na_to_K</th>\n",
              "      <th>Drug</th>\n",
              "    </tr>\n",
              "  </thead>\n",
              "  <tbody>\n",
              "    <tr>\n",
              "      <th>0</th>\n",
              "      <td>23</td>\n",
              "      <td>0</td>\n",
              "      <td>0</td>\n",
              "      <td>0</td>\n",
              "      <td>25.355</td>\n",
              "      <td>drugY</td>\n",
              "    </tr>\n",
              "    <tr>\n",
              "      <th>1</th>\n",
              "      <td>47</td>\n",
              "      <td>1</td>\n",
              "      <td>1</td>\n",
              "      <td>0</td>\n",
              "      <td>13.093</td>\n",
              "      <td>drugC</td>\n",
              "    </tr>\n",
              "    <tr>\n",
              "      <th>2</th>\n",
              "      <td>47</td>\n",
              "      <td>1</td>\n",
              "      <td>1</td>\n",
              "      <td>0</td>\n",
              "      <td>10.114</td>\n",
              "      <td>drugC</td>\n",
              "    </tr>\n",
              "    <tr>\n",
              "      <th>3</th>\n",
              "      <td>28</td>\n",
              "      <td>0</td>\n",
              "      <td>2</td>\n",
              "      <td>0</td>\n",
              "      <td>7.798</td>\n",
              "      <td>drugX</td>\n",
              "    </tr>\n",
              "    <tr>\n",
              "      <th>4</th>\n",
              "      <td>61</td>\n",
              "      <td>0</td>\n",
              "      <td>1</td>\n",
              "      <td>0</td>\n",
              "      <td>18.043</td>\n",
              "      <td>drugY</td>\n",
              "    </tr>\n",
              "  </tbody>\n",
              "</table>\n",
              "</div>\n",
              "    <div class=\"colab-df-buttons\">\n",
              "\n",
              "  <div class=\"colab-df-container\">\n",
              "    <button class=\"colab-df-convert\" onclick=\"convertToInteractive('df-2d47805b-b2ad-43d6-8731-a01c337ce668')\"\n",
              "            title=\"Convert this dataframe to an interactive table.\"\n",
              "            style=\"display:none;\">\n",
              "\n",
              "  <svg xmlns=\"http://www.w3.org/2000/svg\" height=\"24px\" viewBox=\"0 -960 960 960\">\n",
              "    <path d=\"M120-120v-720h720v720H120Zm60-500h600v-160H180v160Zm220 220h160v-160H400v160Zm0 220h160v-160H400v160ZM180-400h160v-160H180v160Zm440 0h160v-160H620v160ZM180-180h160v-160H180v160Zm440 0h160v-160H620v160Z\"/>\n",
              "  </svg>\n",
              "    </button>\n",
              "\n",
              "  <style>\n",
              "    .colab-df-container {\n",
              "      display:flex;\n",
              "      gap: 12px;\n",
              "    }\n",
              "\n",
              "    .colab-df-convert {\n",
              "      background-color: #E8F0FE;\n",
              "      border: none;\n",
              "      border-radius: 50%;\n",
              "      cursor: pointer;\n",
              "      display: none;\n",
              "      fill: #1967D2;\n",
              "      height: 32px;\n",
              "      padding: 0 0 0 0;\n",
              "      width: 32px;\n",
              "    }\n",
              "\n",
              "    .colab-df-convert:hover {\n",
              "      background-color: #E2EBFA;\n",
              "      box-shadow: 0px 1px 2px rgba(60, 64, 67, 0.3), 0px 1px 3px 1px rgba(60, 64, 67, 0.15);\n",
              "      fill: #174EA6;\n",
              "    }\n",
              "\n",
              "    .colab-df-buttons div {\n",
              "      margin-bottom: 4px;\n",
              "    }\n",
              "\n",
              "    [theme=dark] .colab-df-convert {\n",
              "      background-color: #3B4455;\n",
              "      fill: #D2E3FC;\n",
              "    }\n",
              "\n",
              "    [theme=dark] .colab-df-convert:hover {\n",
              "      background-color: #434B5C;\n",
              "      box-shadow: 0px 1px 3px 1px rgba(0, 0, 0, 0.15);\n",
              "      filter: drop-shadow(0px 1px 2px rgba(0, 0, 0, 0.3));\n",
              "      fill: #FFFFFF;\n",
              "    }\n",
              "  </style>\n",
              "\n",
              "    <script>\n",
              "      const buttonEl =\n",
              "        document.querySelector('#df-2d47805b-b2ad-43d6-8731-a01c337ce668 button.colab-df-convert');\n",
              "      buttonEl.style.display =\n",
              "        google.colab.kernel.accessAllowed ? 'block' : 'none';\n",
              "\n",
              "      async function convertToInteractive(key) {\n",
              "        const element = document.querySelector('#df-2d47805b-b2ad-43d6-8731-a01c337ce668');\n",
              "        const dataTable =\n",
              "          await google.colab.kernel.invokeFunction('convertToInteractive',\n",
              "                                                    [key], {});\n",
              "        if (!dataTable) return;\n",
              "\n",
              "        const docLinkHtml = 'Like what you see? Visit the ' +\n",
              "          '<a target=\"_blank\" href=https://colab.research.google.com/notebooks/data_table.ipynb>data table notebook</a>'\n",
              "          + ' to learn more about interactive tables.';\n",
              "        element.innerHTML = '';\n",
              "        dataTable['output_type'] = 'display_data';\n",
              "        await google.colab.output.renderOutput(dataTable, element);\n",
              "        const docLink = document.createElement('div');\n",
              "        docLink.innerHTML = docLinkHtml;\n",
              "        element.appendChild(docLink);\n",
              "      }\n",
              "    </script>\n",
              "  </div>\n",
              "\n",
              "\n",
              "<div id=\"df-7f8f4afd-faf2-476c-886c-bb66ef57c7a9\">\n",
              "  <button class=\"colab-df-quickchart\" onclick=\"quickchart('df-7f8f4afd-faf2-476c-886c-bb66ef57c7a9')\"\n",
              "            title=\"Suggest charts\"\n",
              "            style=\"display:none;\">\n",
              "\n",
              "<svg xmlns=\"http://www.w3.org/2000/svg\" height=\"24px\"viewBox=\"0 0 24 24\"\n",
              "     width=\"24px\">\n",
              "    <g>\n",
              "        <path d=\"M19 3H5c-1.1 0-2 .9-2 2v14c0 1.1.9 2 2 2h14c1.1 0 2-.9 2-2V5c0-1.1-.9-2-2-2zM9 17H7v-7h2v7zm4 0h-2V7h2v10zm4 0h-2v-4h2v4z\"/>\n",
              "    </g>\n",
              "</svg>\n",
              "  </button>\n",
              "\n",
              "<style>\n",
              "  .colab-df-quickchart {\n",
              "      --bg-color: #E8F0FE;\n",
              "      --fill-color: #1967D2;\n",
              "      --hover-bg-color: #E2EBFA;\n",
              "      --hover-fill-color: #174EA6;\n",
              "      --disabled-fill-color: #AAA;\n",
              "      --disabled-bg-color: #DDD;\n",
              "  }\n",
              "\n",
              "  [theme=dark] .colab-df-quickchart {\n",
              "      --bg-color: #3B4455;\n",
              "      --fill-color: #D2E3FC;\n",
              "      --hover-bg-color: #434B5C;\n",
              "      --hover-fill-color: #FFFFFF;\n",
              "      --disabled-bg-color: #3B4455;\n",
              "      --disabled-fill-color: #666;\n",
              "  }\n",
              "\n",
              "  .colab-df-quickchart {\n",
              "    background-color: var(--bg-color);\n",
              "    border: none;\n",
              "    border-radius: 50%;\n",
              "    cursor: pointer;\n",
              "    display: none;\n",
              "    fill: var(--fill-color);\n",
              "    height: 32px;\n",
              "    padding: 0;\n",
              "    width: 32px;\n",
              "  }\n",
              "\n",
              "  .colab-df-quickchart:hover {\n",
              "    background-color: var(--hover-bg-color);\n",
              "    box-shadow: 0 1px 2px rgba(60, 64, 67, 0.3), 0 1px 3px 1px rgba(60, 64, 67, 0.15);\n",
              "    fill: var(--button-hover-fill-color);\n",
              "  }\n",
              "\n",
              "  .colab-df-quickchart-complete:disabled,\n",
              "  .colab-df-quickchart-complete:disabled:hover {\n",
              "    background-color: var(--disabled-bg-color);\n",
              "    fill: var(--disabled-fill-color);\n",
              "    box-shadow: none;\n",
              "  }\n",
              "\n",
              "  .colab-df-spinner {\n",
              "    border: 2px solid var(--fill-color);\n",
              "    border-color: transparent;\n",
              "    border-bottom-color: var(--fill-color);\n",
              "    animation:\n",
              "      spin 1s steps(1) infinite;\n",
              "  }\n",
              "\n",
              "  @keyframes spin {\n",
              "    0% {\n",
              "      border-color: transparent;\n",
              "      border-bottom-color: var(--fill-color);\n",
              "      border-left-color: var(--fill-color);\n",
              "    }\n",
              "    20% {\n",
              "      border-color: transparent;\n",
              "      border-left-color: var(--fill-color);\n",
              "      border-top-color: var(--fill-color);\n",
              "    }\n",
              "    30% {\n",
              "      border-color: transparent;\n",
              "      border-left-color: var(--fill-color);\n",
              "      border-top-color: var(--fill-color);\n",
              "      border-right-color: var(--fill-color);\n",
              "    }\n",
              "    40% {\n",
              "      border-color: transparent;\n",
              "      border-right-color: var(--fill-color);\n",
              "      border-top-color: var(--fill-color);\n",
              "    }\n",
              "    60% {\n",
              "      border-color: transparent;\n",
              "      border-right-color: var(--fill-color);\n",
              "    }\n",
              "    80% {\n",
              "      border-color: transparent;\n",
              "      border-right-color: var(--fill-color);\n",
              "      border-bottom-color: var(--fill-color);\n",
              "    }\n",
              "    90% {\n",
              "      border-color: transparent;\n",
              "      border-bottom-color: var(--fill-color);\n",
              "    }\n",
              "  }\n",
              "</style>\n",
              "\n",
              "  <script>\n",
              "    async function quickchart(key) {\n",
              "      const quickchartButtonEl =\n",
              "        document.querySelector('#' + key + ' button');\n",
              "      quickchartButtonEl.disabled = true;  // To prevent multiple clicks.\n",
              "      quickchartButtonEl.classList.add('colab-df-spinner');\n",
              "      try {\n",
              "        const charts = await google.colab.kernel.invokeFunction(\n",
              "            'suggestCharts', [key], {});\n",
              "      } catch (error) {\n",
              "        console.error('Error during call to suggestCharts:', error);\n",
              "      }\n",
              "      quickchartButtonEl.classList.remove('colab-df-spinner');\n",
              "      quickchartButtonEl.classList.add('colab-df-quickchart-complete');\n",
              "    }\n",
              "    (() => {\n",
              "      let quickchartButtonEl =\n",
              "        document.querySelector('#df-7f8f4afd-faf2-476c-886c-bb66ef57c7a9 button');\n",
              "      quickchartButtonEl.style.display =\n",
              "        google.colab.kernel.accessAllowed ? 'block' : 'none';\n",
              "    })();\n",
              "  </script>\n",
              "</div>\n",
              "    </div>\n",
              "  </div>\n"
            ],
            "text/plain": [
              "   Age  Sex  BP  Cholesterol  Na_to_K   Drug\n",
              "0   23    0   0            0   25.355  drugY\n",
              "1   47    1   1            0   13.093  drugC\n",
              "2   47    1   1            0   10.114  drugC\n",
              "3   28    0   2            0    7.798  drugX\n",
              "4   61    0   1            0   18.043  drugY"
            ]
          },
          "execution_count": 92,
          "metadata": {},
          "output_type": "execute_result"
        }
      ],
      "source": [
        "# after encoding the data will be\n",
        "data.head()"
      ]
    },
    {
      "cell_type": "markdown",
      "metadata": {
        "id": "g61fvPmTyW3G"
      },
      "source": [
        "scalling of numerical columns"
      ]
    },
    {
      "cell_type": "code",
      "execution_count": 93,
      "metadata": {
        "id": "TuLM8baLcAd2"
      },
      "outputs": [],
      "source": [
        "scaler = StandardScaler()\n",
        "data[['Age', 'Na_to_K']] = scaler.fit_transform(data[['Age', 'Na_to_K']])\n"
      ]
    },
    {
      "cell_type": "markdown",
      "metadata": {
        "id": "YWVqkWqGyank"
      },
      "source": [
        "Splitting Training and Testing data"
      ]
    },
    {
      "cell_type": "code",
      "execution_count": 94,
      "metadata": {
        "id": "mQmbJim5o_bC"
      },
      "outputs": [],
      "source": [
        "x = data.drop('Drug', axis=1)\n",
        "y = data['Drug']\n",
        "x_train, x_test, y_train, y_test = train_test_split(x, y, test_size=0.2, random_state=42)\n"
      ]
    },
    {
      "cell_type": "markdown",
      "metadata": {
        "id": "cotn4rC5yiFm"
      },
      "source": [
        "**Decision Tree**"
      ]
    },
    {
      "cell_type": "code",
      "execution_count": 95,
      "metadata": {
        "id": "uxOjjFOefgZa"
      },
      "outputs": [],
      "source": [
        "# Create Decision Tree classifer object\n",
        "clf = DecisionTreeClassifier()\n",
        "\n",
        "clf = clf.fit(x_train,y_train)\n",
        "#y_train_pred= clf.predict(x_train)\n",
        "y_pred= clf.predict(x_test)"
      ]
    },
    {
      "cell_type": "markdown",
      "metadata": {
        "id": "K8S8JBFEy0Sd"
      },
      "source": [
        "Accuracy"
      ]
    },
    {
      "cell_type": "code",
      "execution_count": 96,
      "metadata": {
        "colab": {
          "base_uri": "https://localhost:8080/"
        },
        "id": "ZLBZICKJinm8",
        "outputId": "d1258795-680c-404a-c48d-5dcdb2428c7b"
      },
      "outputs": [
        {
          "name": "stdout",
          "output_type": "stream",
          "text": [
            "Testing Accuracy: 1.0\n"
          ]
        }
      ],
      "source": [
        "print(\"Testing Accuracy:\",metrics.accuracy_score(y_test, y_pred))\n"
      ]
    },
    {
      "cell_type": "markdown",
      "metadata": {
        "id": "ZH8UQT9Yy1iF"
      },
      "source": [
        "Confusion matrix"
      ]
    },
    {
      "cell_type": "code",
      "execution_count": 97,
      "metadata": {
        "colab": {
          "base_uri": "https://localhost:8080/"
        },
        "id": "47BT0sycyzjC",
        "outputId": "a49e9286-6234-4478-f046-edd65290e5ef"
      },
      "outputs": [
        {
          "data": {
            "text/plain": [
              "array([[ 6,  0,  0,  0,  0],\n",
              "       [ 0,  3,  0,  0,  0],\n",
              "       [ 0,  0,  5,  0,  0],\n",
              "       [ 0,  0,  0, 11,  0],\n",
              "       [ 0,  0,  0,  0, 15]])"
            ]
          },
          "execution_count": 97,
          "metadata": {},
          "output_type": "execute_result"
        }
      ],
      "source": [
        "from sklearn.metrics import confusion_matrix\n",
        "confusion_matrix(y_test,y_pred)"
      ]
    },
    {
      "cell_type": "markdown",
      "metadata": {
        "id": "Tv53G1Moy5S_"
      },
      "source": [
        "classification report"
      ]
    },
    {
      "cell_type": "code",
      "execution_count": 98,
      "metadata": {
        "colab": {
          "base_uri": "https://localhost:8080/"
        },
        "id": "zRWnH6o3itDk",
        "outputId": "ad92677b-b25f-4cd3-8b42-05983a9296f7"
      },
      "outputs": [
        {
          "name": "stdout",
          "output_type": "stream",
          "text": [
            "              precision    recall  f1-score   support\n",
            "\n",
            "       drugA       1.00      1.00      1.00         6\n",
            "       drugB       1.00      1.00      1.00         3\n",
            "       drugC       1.00      1.00      1.00         5\n",
            "       drugX       1.00      1.00      1.00        11\n",
            "       drugY       1.00      1.00      1.00        15\n",
            "\n",
            "    accuracy                           1.00        40\n",
            "   macro avg       1.00      1.00      1.00        40\n",
            "weighted avg       1.00      1.00      1.00        40\n",
            "\n"
          ]
        }
      ],
      "source": [
        "print(classification_report(y_test,y_pred))"
      ]
    },
    {
      "cell_type": "code",
      "execution_count": 59,
      "metadata": {
        "id": "i_DxhEWrgNgA"
      },
      "outputs": [],
      "source": [
        "#!pip install graphviz\n"
      ]
    },
    {
      "cell_type": "code",
      "execution_count": 60,
      "metadata": {
        "id": "zhDu2KkKVGTd"
      },
      "outputs": [],
      "source": [
        "#!pip install pydotplus\n"
      ]
    },
    {
      "cell_type": "code",
      "execution_count": 61,
      "metadata": {
        "id": "Oic9SQwxgRU0"
      },
      "outputs": [],
      "source": [
        "!#pip install six"
      ]
    },
    {
      "cell_type": "code",
      "execution_count": 99,
      "metadata": {
        "colab": {
          "base_uri": "https://localhost:8080/"
        },
        "id": "NsMemT4GgUxP",
        "outputId": "7e0a309f-29a2-4414-b272-0ffd0752db98"
      },
      "outputs": [
        {
          "name": "stdout",
          "output_type": "stream",
          "text": [
            "|--- feature_4 <= -0.17\n",
            "|   |--- feature_2 <= 0.50\n",
            "|   |   |--- feature_0 <= 0.37\n",
            "|   |   |   |--- class: drugA\n",
            "|   |   |--- feature_0 >  0.37\n",
            "|   |   |   |--- class: drugB\n",
            "|   |--- feature_2 >  0.50\n",
            "|   |   |--- feature_2 <= 1.50\n",
            "|   |   |   |--- feature_3 <= 0.50\n",
            "|   |   |   |   |--- class: drugC\n",
            "|   |   |   |--- feature_3 >  0.50\n",
            "|   |   |   |   |--- class: drugX\n",
            "|   |   |--- feature_2 >  1.50\n",
            "|   |   |   |--- class: drugX\n",
            "|--- feature_4 >  -0.17\n",
            "|   |--- class: drugY\n",
            "\n"
          ]
        }
      ],
      "source": [
        "from sklearn import tree\n",
        "text_representation = tree.export_text(clf)\n",
        "print(text_representation)"
      ]
    },
    {
      "cell_type": "code",
      "execution_count": 100,
      "metadata": {
        "colab": {
          "base_uri": "https://localhost:8080/",
          "height": 604
        },
        "id": "Z0dx6dgQgXPZ",
        "outputId": "9135cfd0-f82c-4f16-cc9d-3b8906b4d9f4"
      },
      "outputs": [
        {
          "data": {
            "text/plain": [
              "[Text(0.625, 0.9, 'x[4] <= -0.174\\ngini = 0.68\\nsamples = 160\\nvalue = [17, 13, 11, 43, 76]'),\n",
              " Text(0.5, 0.7, 'x[2] <= 0.5\\ngini = 0.656\\nsamples = 84\\nvalue = [17, 13, 11, 43, 0]'),\n",
              " Text(0.25, 0.5, 'x[0] <= 0.375\\ngini = 0.491\\nsamples = 30\\nvalue = [17, 13, 0, 0, 0]'),\n",
              " Text(0.125, 0.3, 'gini = 0.0\\nsamples = 17\\nvalue = [17, 0, 0, 0, 0]'),\n",
              " Text(0.375, 0.3, 'gini = 0.0\\nsamples = 13\\nvalue = [0, 13, 0, 0, 0]'),\n",
              " Text(0.75, 0.5, 'x[2] <= 1.5\\ngini = 0.324\\nsamples = 54\\nvalue = [0, 0, 11, 43, 0]'),\n",
              " Text(0.625, 0.3, 'x[3] <= 0.5\\ngini = 0.499\\nsamples = 23\\nvalue = [0, 0, 11, 12, 0]'),\n",
              " Text(0.5, 0.1, 'gini = 0.0\\nsamples = 11\\nvalue = [0, 0, 11, 0, 0]'),\n",
              " Text(0.75, 0.1, 'gini = 0.0\\nsamples = 12\\nvalue = [0, 0, 0, 12, 0]'),\n",
              " Text(0.875, 0.3, 'gini = 0.0\\nsamples = 31\\nvalue = [0, 0, 0, 31, 0]'),\n",
              " Text(0.75, 0.7, 'gini = 0.0\\nsamples = 76\\nvalue = [0, 0, 0, 0, 76]')]"
            ]
          },
          "execution_count": 100,
          "metadata": {},
          "output_type": "execute_result"
        },
        {
          "data": {
            "image/png": "[encoded data removed]",
            "text/plain": [
              "<Figure size 640x480 with 1 Axes>"
            ]
          },
          "metadata": {},
          "output_type": "display_data"
        }
      ],
      "source": [
        "tree.plot_tree(clf)"
      ]
    },
    {
      "cell_type": "code",
      "execution_count": 101,
      "metadata": {
        "colab": {
          "base_uri": "https://localhost:8080/"
        },
        "id": "yNfiNPMEgdrB",
        "outputId": "3cde4d29-7788-4164-a8de-cc0628ba0a77"
      },
      "outputs": [
        {
          "name": "stdout",
          "output_type": "stream",
          "text": [
            "Testing Accuracy: 1.0\n"
          ]
        }
      ],
      "source": [
        "clf2 = DecisionTreeClassifier(criterion=\"entropy\", max_depth=4)\n",
        "clf2 = clf2.fit(x_train,y_train)\n",
        "y_predict= clf2.predict(x_test)\n",
        "print(\"Testing Accuracy:\",metrics.accuracy_score(y_test, y_predict))\n"
      ]
    },
    {
      "cell_type": "code",
      "execution_count": 102,
      "metadata": {
        "colab": {
          "base_uri": "https://localhost:8080/",
          "height": 604
        },
        "id": "mMKZOmh6hZ8v",
        "outputId": "f1e2d114-bc45-4a9a-8a87-53fed2d5f846"
      },
      "outputs": [
        {
          "data": {
            "text/plain": [
              "[Text(0.625, 0.9, 'x[4] <= -0.174\\nentropy = 1.923\\nsamples = 160\\nvalue = [17, 13, 11, 43, 76]'),\n",
              " Text(0.5, 0.7, 'x[2] <= 0.5\\nentropy = 1.762\\nsamples = 84\\nvalue = [17, 13, 11, 43, 0]'),\n",
              " Text(0.25, 0.5, 'x[0] <= 0.375\\nentropy = 0.987\\nsamples = 30\\nvalue = [17, 13, 0, 0, 0]'),\n",
              " Text(0.125, 0.3, 'entropy = 0.0\\nsamples = 17\\nvalue = [17, 0, 0, 0, 0]'),\n",
              " Text(0.375, 0.3, 'entropy = 0.0\\nsamples = 13\\nvalue = [0, 13, 0, 0, 0]'),\n",
              " Text(0.75, 0.5, 'x[2] <= 1.5\\nentropy = 0.729\\nsamples = 54\\nvalue = [0, 0, 11, 43, 0]'),\n",
              " Text(0.625, 0.3, 'x[3] <= 0.5\\nentropy = 0.999\\nsamples = 23\\nvalue = [0, 0, 11, 12, 0]'),\n",
              " Text(0.5, 0.1, 'entropy = 0.0\\nsamples = 11\\nvalue = [0, 0, 11, 0, 0]'),\n",
              " Text(0.75, 0.1, 'entropy = 0.0\\nsamples = 12\\nvalue = [0, 0, 0, 12, 0]'),\n",
              " Text(0.875, 0.3, 'entropy = 0.0\\nsamples = 31\\nvalue = [0, 0, 0, 31, 0]'),\n",
              " Text(0.75, 0.7, 'entropy = 0.0\\nsamples = 76\\nvalue = [0, 0, 0, 0, 76]')]"
            ]
          },
          "execution_count": 102,
          "metadata": {},
          "output_type": "execute_result"
        },
        {
          "data": {
            "image/png": "[encoded data removed]",
            "text/plain": [
              "<Figure size 640x480 with 1 Axes>"
            ]
          },
          "metadata": {},
          "output_type": "display_data"
        }
      ],
      "source": [
        "tree.plot_tree(clf2)"
      ]
    },
    {
      "cell_type": "markdown",
      "metadata": {
        "id": "ChZH6e9shl-7"
      },
      "source": [
        "**Random Forest**"
      ]
    },
    {
      "cell_type": "code",
      "execution_count": 103,
      "metadata": {
        "id": "upEBxpHahozv"
      },
      "outputs": [],
      "source": [
        "import pandas as pd\n",
        "import numpy as np\n",
        "from sklearn.ensemble import RandomForestClassifier\n",
        "from sklearn.metrics import accuracy_score, confusion_matrix, precision_score, recall_score, ConfusionMatrixDisplay\n",
        "from sklearn.model_selection import RandomizedSearchCV, train_test_split\n",
        "from scipy.stats import randint\n",
        "from sklearn.tree import export_graphviz\n",
        "from IPython.display import Image\n",
        "import graphviz"
      ]
    },
    {
      "cell_type": "code",
      "execution_count": 104,
      "metadata": {
        "colab": {
          "base_uri": "https://localhost:8080/",
          "height": 74
        },
        "id": "y1y5clGShrFP",
        "outputId": "7b20c914-25d7-4b9d-9520-f6529e8d6d36"
      },
      "outputs": [
        {
          "data": {
            "text/html": [
              "<style>#sk-container-id-5 {color: black;background-color: white;}#sk-container-id-5 pre{padding: 0;}#sk-container-id-5 div.sk-toggleable {background-color: white;}#sk-container-id-5 label.sk-toggleable__label {cursor: pointer;display: block;width: 100%;margin-bottom: 0;padding: 0.3em;box-sizing: border-box;text-align: center;}#sk-container-id-5 label.sk-toggleable__label-arrow:before {content: \"▸\";float: left;margin-right: 0.25em;color: #696969;}#sk-container-id-5 label.sk-toggleable__label-arrow:hover:before {color: black;}#sk-container-id-5 div.sk-estimator:hover label.sk-toggleable__label-arrow:before {color: black;}#sk-container-id-5 div.sk-toggleable__content {max-height: 0;max-width: 0;overflow: hidden;text-align: left;background-color: #f0f8ff;}#sk-container-id-5 div.sk-toggleable__content pre {margin: 0.2em;color: black;border-radius: 0.25em;background-color: #f0f8ff;}#sk-container-id-5 input.sk-toggleable__control:checked~div.sk-toggleable__content {max-height: 200px;max-width: 100%;overflow: auto;}#sk-container-id-5 input.sk-toggleable__control:checked~label.sk-toggleable__label-arrow:before {content: \"▾\";}#sk-container-id-5 div.sk-estimator input.sk-toggleable__control:checked~label.sk-toggleable__label {background-color: #d4ebff;}#sk-container-id-5 div.sk-label input.sk-toggleable__control:checked~label.sk-toggleable__label {background-color: #d4ebff;}#sk-container-id-5 input.sk-hidden--visually {border: 0;clip: rect(1px 1px 1px 1px);clip: rect(1px, 1px, 1px, 1px);height: 1px;margin: -1px;overflow: hidden;padding: 0;position: absolute;width: 1px;}#sk-container-id-5 div.sk-estimator {font-family: monospace;background-color: #f0f8ff;border: 1px dotted black;border-radius: 0.25em;box-sizing: border-box;margin-bottom: 0.5em;}#sk-container-id-5 div.sk-estimator:hover {background-color: #d4ebff;}#sk-container-id-5 div.sk-parallel-item::after {content: \"\";width: 100%;border-bottom: 1px solid gray;flex-grow: 1;}#sk-container-id-5 div.sk-label:hover label.sk-toggleable__label {background-color: #d4ebff;}#sk-container-id-5 div.sk-serial::before {content: \"\";position: absolute;border-left: 1px solid gray;box-sizing: border-box;top: 0;bottom: 0;left: 50%;z-index: 0;}#sk-container-id-5 div.sk-serial {display: flex;flex-direction: column;align-items: center;background-color: white;padding-right: 0.2em;padding-left: 0.2em;position: relative;}#sk-container-id-5 div.sk-item {position: relative;z-index: 1;}#sk-container-id-5 div.sk-parallel {display: flex;align-items: stretch;justify-content: center;background-color: white;position: relative;}#sk-container-id-5 div.sk-item::before, #sk-container-id-5 div.sk-parallel-item::before {content: \"\";position: absolute;border-left: 1px solid gray;box-sizing: border-box;top: 0;bottom: 0;left: 50%;z-index: -1;}#sk-container-id-5 div.sk-parallel-item {display: flex;flex-direction: column;z-index: 1;position: relative;background-color: white;}#sk-container-id-5 div.sk-parallel-item:first-child::after {align-self: flex-end;width: 50%;}#sk-container-id-5 div.sk-parallel-item:last-child::after {align-self: flex-start;width: 50%;}#sk-container-id-5 div.sk-parallel-item:only-child::after {width: 0;}#sk-container-id-5 div.sk-dashed-wrapped {border: 1px dashed gray;margin: 0 0.4em 0.5em 0.4em;box-sizing: border-box;padding-bottom: 0.4em;background-color: white;}#sk-container-id-5 div.sk-label label {font-family: monospace;font-weight: bold;display: inline-block;line-height: 1.2em;}#sk-container-id-5 div.sk-label-container {text-align: center;}#sk-container-id-5 div.sk-container {/* jupyter's `normalize.less` sets `[hidden] { display: none; }` but bootstrap.min.css set `[hidden] { display: none !important; }` so we also need the `!important` here to be able to override the default hidden behavior on the sphinx rendered scikit-learn.org. See: https://github.com/scikit-learn/scikit-learn/issues/21755 */display: inline-block !important;position: relative;}#sk-container-id-5 div.sk-text-repr-fallback {display: none;}</style><div id=\"sk-container-id-5\" class=\"sk-top-container\"><div class=\"sk-text-repr-fallback\"><pre>RandomForestClassifier()</pre><b>In a Jupyter environment, please rerun this cell to show the HTML representation or trust the notebook. <br />On GitHub, the HTML representation is unable to render, please try loading this page with nbviewer.org.</b></div><div class=\"sk-container\" hidden><div class=\"sk-item\"><div class=\"sk-estimator sk-toggleable\"><input class=\"sk-toggleable__control sk-hidden--visually\" id=\"sk-estimator-id-7\" type=\"checkbox\" checked><label for=\"sk-estimator-id-7\" class=\"sk-toggleable__label sk-toggleable__label-arrow\">RandomForestClassifier</label><div class=\"sk-toggleable__content\"><pre>RandomForestClassifier()</pre></div></div></div></div></div>"
            ],
            "text/plain": [
              "RandomForestClassifier()"
            ]
          },
          "execution_count": 104,
          "metadata": {},
          "output_type": "execute_result"
        }
      ],
      "source": [
        "rf = RandomForestClassifier()\n",
        "rf.fit(x_train, y_train)"
      ]
    },
    {
      "cell_type": "code",
      "execution_count": 105,
      "metadata": {
        "colab": {
          "base_uri": "https://localhost:8080/"
        },
        "id": "f7ZsCMcSkhbc",
        "outputId": "37bb0e41-67bf-4adb-8328-1d3a92037dcb"
      },
      "outputs": [
        {
          "data": {
            "text/plain": [
              "array(['drugX', 'drugY', 'drugX', 'drugC', 'drugY', 'drugY', 'drugY',\n",
              "       'drugX', 'drugA', 'drugX', 'drugA', 'drugX', 'drugY', 'drugA',\n",
              "       'drugB', 'drugY', 'drugB', 'drugX', 'drugC', 'drugY', 'drugB',\n",
              "       'drugX', 'drugX', 'drugY', 'drugY', 'drugY', 'drugC', 'drugX',\n",
              "       'drugY', 'drugX', 'drugY', 'drugC', 'drugC', 'drugY', 'drugA',\n",
              "       'drugY', 'drugX', 'drugA', 'drugY', 'drugA'], dtype=object)"
            ]
          },
          "execution_count": 105,
          "metadata": {},
          "output_type": "execute_result"
        }
      ],
      "source": [
        "y_predict= rf.predict(x_test)\n",
        "y_predict"
      ]
    },
    {
      "cell_type": "code",
      "execution_count": 106,
      "metadata": {
        "colab": {
          "base_uri": "https://localhost:8080/"
        },
        "id": "kTLnx_lMkurz",
        "outputId": "7babb4a2-1b6f-49c4-e01d-46a2f367a1ad"
      },
      "outputs": [
        {
          "name": "stdout",
          "output_type": "stream",
          "text": [
            "Testing_Accuracy: 1.0\n"
          ]
        }
      ],
      "source": [
        "accuracy = accuracy_score(y_test, y_pred)\n",
        "print(\"Testing_Accuracy:\", accuracy)"
      ]
    },
    {
      "cell_type": "code",
      "execution_count": 108,
      "metadata": {
        "colab": {
          "base_uri": "https://localhost:8080/"
        },
        "id": "mAInmCJlzQMX",
        "outputId": "41eb528b-e4ef-4f0f-de37-bda766c8d004"
      },
      "outputs": [
        {
          "data": {
            "text/plain": [
              "array([[ 6,  0,  0,  0,  0],\n",
              "       [ 0,  3,  0,  0,  0],\n",
              "       [ 0,  0,  5,  0,  0],\n",
              "       [ 0,  0,  0, 11,  0],\n",
              "       [ 0,  0,  0,  0, 15]])"
            ]
          },
          "execution_count": 108,
          "metadata": {},
          "output_type": "execute_result"
        }
      ],
      "source": [
        "confusion_matrix(y_test,y_pred)"
      ]
    },
    {
      "cell_type": "code",
      "execution_count": 109,
      "metadata": {
        "colab": {
          "base_uri": "https://localhost:8080/"
        },
        "id": "ilgawF65zXGn",
        "outputId": "2e7ab57a-8e05-4fab-e8a0-5b27c769bc5e"
      },
      "outputs": [
        {
          "name": "stdout",
          "output_type": "stream",
          "text": [
            "              precision    recall  f1-score   support\n",
            "\n",
            "       drugA       1.00      1.00      1.00         6\n",
            "       drugB       1.00      1.00      1.00         3\n",
            "       drugC       1.00      1.00      1.00         5\n",
            "       drugX       1.00      1.00      1.00        11\n",
            "       drugY       1.00      1.00      1.00        15\n",
            "\n",
            "    accuracy                           1.00        40\n",
            "   macro avg       1.00      1.00      1.00        40\n",
            "weighted avg       1.00      1.00      1.00        40\n",
            "\n"
          ]
        }
      ],
      "source": [
        "print(classification_report(y_test,y_pred))"
      ]
    },
    {
      "cell_type": "markdown",
      "metadata": {},
      "source": [
        "code to see indiviual  decisio tree in random forest\n"
      ]
    },
    {
      "cell_type": "code",
      "execution_count": 110,
      "metadata": {
        "colab": {
          "base_uri": "https://localhost:8080/",
          "height": 1000
        },
        "id": "k_-FF0rQh0z0",
        "outputId": "05b6f0e2-75ce-4236-e82b-918d31f9bccf"
      },
      "outputs": [
        {
          "data": {
            "image/svg+xml": [
              "<?xml version=\"1.0\" encoding=\"UTF-8\" standalone=\"no\"?>\n",
              "<!DOCTYPE svg PUBLIC \"-//W3C//DTD SVG 1.1//EN\"\n",
              " \"http://www.w3.org/Graphics/SVG/1.1/DTD/svg11.dtd\">\n",
              "<!-- Generated by graphviz version 2.43.0 (0)\n",
              " -->\n",
              "<!-- Title: Tree Pages: 1 -->\n",
              "<svg width=\"983pt\" height=\"311pt\"\n",
              " viewBox=\"0.00 0.00 982.50 311.00\" xmlns=\"http://www.w3.org/2000/svg\" xmlns:xlink=\"http://www.w3.org/1999/xlink\">\n",
              "<g id=\"graph0\" class=\"graph\" transform=\"scale(1 1) rotate(0) translate(4 307)\">\n",
              "<title>Tree</title>\n",
              "<polygon fill=\"white\" stroke=\"transparent\" points=\"-4,4 -4,-307 978.5,-307 978.5,4 -4,4\"/>\n",
              "<!-- 0 -->\n",
              "<g id=\"node1\" class=\"node\">\n",
              "<title>0</title>\n",
              "<polygon fill=\"#f7c1eb\" stroke=\"black\" points=\"626.5,-303 355.5,-303 355.5,-250 626.5,-250 626.5,-303\"/>\n",
              "<text text-anchor=\"middle\" x=\"491\" y=\"-287.8\" font-family=\"Helvetica,sans-Serif\" font-size=\"14.00\">Age &lt;= 0.587</text>\n",
              "<text text-anchor=\"middle\" x=\"491\" y=\"-272.8\" font-family=\"Helvetica,sans-Serif\" font-size=\"14.00\">samples = 100.0%</text>\n",
              "<text text-anchor=\"middle\" x=\"491\" y=\"-257.8\" font-family=\"Helvetica,sans-Serif\" font-size=\"14.00\">value = [0.106, 0.081, 0.056, 0.262, 0.494]</text>\n",
              "</g>\n",
              "<!-- 1 -->\n",
              "<g id=\"node2\" class=\"node\">\n",
              "<title>1</title>\n",
              "<polygon fill=\"#f9d2f1\" stroke=\"black\" points=\"484,-214 228,-214 228,-161 484,-161 484,-214\"/>\n",
              "<text text-anchor=\"middle\" x=\"356\" y=\"-198.8\" font-family=\"Helvetica,sans-Serif\" font-size=\"14.00\">BP &lt;= 0.5</text>\n",
              "<text text-anchor=\"middle\" x=\"356\" y=\"-183.8\" font-family=\"Helvetica,sans-Serif\" font-size=\"14.00\">samples = 65.7%</text>\n",
              "<text text-anchor=\"middle\" x=\"356\" y=\"-168.8\" font-family=\"Helvetica,sans-Serif\" font-size=\"14.00\">value = [0.157, 0.0, 0.056, 0.315, 0.472]</text>\n",
              "</g>\n",
              "<!-- 0&#45;&gt;1 -->\n",
              "<g id=\"edge1\" class=\"edge\">\n",
              "<title>0&#45;&gt;1</title>\n",
              "<path fill=\"none\" stroke=\"black\" d=\"M451.23,-249.87C436.66,-240.48 420.01,-229.75 404.75,-219.92\"/>\n",
              "<polygon fill=\"black\" stroke=\"black\" points=\"406.26,-216.72 395.96,-214.25 402.47,-222.61 406.26,-216.72\"/>\n",
              "<text text-anchor=\"middle\" x=\"401.24\" y=\"-234.99\" font-family=\"Helvetica,sans-Serif\" font-size=\"14.00\">True</text>\n",
              "</g>\n",
              "<!-- 32 -->\n",
              "<g id=\"node9\" class=\"node\">\n",
              "<title>32</title>\n",
              "<polygon fill=\"#f5b3e7\" stroke=\"black\" points=\"750,-214 502,-214 502,-161 750,-161 750,-214\"/>\n",
              "<text text-anchor=\"middle\" x=\"626\" y=\"-198.8\" font-family=\"Helvetica,sans-Serif\" font-size=\"14.00\">BP &lt;= 0.5</text>\n",
              "<text text-anchor=\"middle\" x=\"626\" y=\"-183.8\" font-family=\"Helvetica,sans-Serif\" font-size=\"14.00\">samples = 34.3%</text>\n",
              "<text text-anchor=\"middle\" x=\"626\" y=\"-168.8\" font-family=\"Helvetica,sans-Serif\" font-size=\"14.00\">value = [0.0, 0.25, 0.058, 0.154, 0.538]</text>\n",
              "</g>\n",
              "<!-- 0&#45;&gt;32 -->\n",
              "<g id=\"edge8\" class=\"edge\">\n",
              "<title>0&#45;&gt;32</title>\n",
              "<path fill=\"none\" stroke=\"black\" d=\"M530.77,-249.87C545.34,-240.48 561.99,-229.75 577.25,-219.92\"/>\n",
              "<polygon fill=\"black\" stroke=\"black\" points=\"579.53,-222.61 586.04,-214.25 575.74,-216.72 579.53,-222.61\"/>\n",
              "<text text-anchor=\"middle\" x=\"580.76\" y=\"-234.99\" font-family=\"Helvetica,sans-Serif\" font-size=\"14.00\">False</text>\n",
              "</g>\n",
              "<!-- 2 -->\n",
              "<g id=\"node3\" class=\"node\">\n",
              "<title>2</title>\n",
              "<polygon fill=\"#f6bae9\" stroke=\"black\" points=\"226,-125 0,-125 0,-72 226,-72 226,-125\"/>\n",
              "<text text-anchor=\"middle\" x=\"113\" y=\"-109.8\" font-family=\"Helvetica,sans-Serif\" font-size=\"14.00\">Na_to_K &lt;= &#45;0.272</text>\n",
              "<text text-anchor=\"middle\" x=\"113\" y=\"-94.8\" font-family=\"Helvetica,sans-Serif\" font-size=\"14.00\">samples = 25.5%</text>\n",
              "<text text-anchor=\"middle\" x=\"113\" y=\"-79.8\" font-family=\"Helvetica,sans-Serif\" font-size=\"14.00\">value = [0.395, 0.0, 0.0, 0.0, 0.605]</text>\n",
              "</g>\n",
              "<!-- 1&#45;&gt;2 -->\n",
              "<g id=\"edge2\" class=\"edge\">\n",
              "<title>1&#45;&gt;2</title>\n",
              "<path fill=\"none\" stroke=\"black\" d=\"M284.73,-160.98C256.17,-150.76 223.12,-138.93 193.68,-128.39\"/>\n",
              "<polygon fill=\"black\" stroke=\"black\" points=\"194.86,-125.09 184.26,-125.01 192.5,-131.68 194.86,-125.09\"/>\n",
              "</g>\n",
              "<!-- 5 -->\n",
              "<g id=\"node6\" class=\"node\">\n",
              "<title>5</title>\n",
              "<polygon fill=\"#d3d2f9\" stroke=\"black\" points=\"485.5,-125 244.5,-125 244.5,-72 485.5,-72 485.5,-125\"/>\n",
              "<text text-anchor=\"middle\" x=\"365\" y=\"-109.8\" font-family=\"Helvetica,sans-Serif\" font-size=\"14.00\">Sex &lt;= 0.5</text>\n",
              "<text text-anchor=\"middle\" x=\"365\" y=\"-94.8\" font-family=\"Helvetica,sans-Serif\" font-size=\"14.00\">samples = 40.2%</text>\n",
              "<text text-anchor=\"middle\" x=\"365\" y=\"-79.8\" font-family=\"Helvetica,sans-Serif\" font-size=\"14.00\">value = [0.0, 0.0, 0.092, 0.523, 0.385]</text>\n",
              "</g>\n",
              "<!-- 1&#45;&gt;5 -->\n",
              "<g id=\"edge5\" class=\"edge\">\n",
              "<title>1&#45;&gt;5</title>\n",
              "<path fill=\"none\" stroke=\"black\" d=\"M358.65,-160.87C359.48,-152.89 360.4,-143.93 361.29,-135.38\"/>\n",
              "<polygon fill=\"black\" stroke=\"black\" points=\"364.79,-135.56 362.34,-125.25 357.83,-134.84 364.79,-135.56\"/>\n",
              "</g>\n",
              "<!-- 3 -->\n",
              "<g id=\"node4\" class=\"node\">\n",
              "<title>3</title>\n",
              "<polygon fill=\"#c0c0c0\" stroke=\"black\" points=\"104,-36 50,-36 50,0 104,0 104,-36\"/>\n",
              "<text text-anchor=\"middle\" x=\"77\" y=\"-14.3\" font-family=\"Helvetica,sans-Serif\" font-size=\"14.00\">(...)</text>\n",
              "</g>\n",
              "<!-- 2&#45;&gt;3 -->\n",
              "<g id=\"edge3\" class=\"edge\">\n",
              "<title>2&#45;&gt;3</title>\n",
              "<path fill=\"none\" stroke=\"black\" d=\"M101.21,-71.8C97.34,-63.35 93.03,-53.95 89.13,-45.45\"/>\n",
              "<polygon fill=\"black\" stroke=\"black\" points=\"92.3,-43.96 84.95,-36.33 85.93,-46.88 92.3,-43.96\"/>\n",
              "</g>\n",
              "<!-- 4 -->\n",
              "<g id=\"node5\" class=\"node\">\n",
              "<title>4</title>\n",
              "<polygon fill=\"#c0c0c0\" stroke=\"black\" points=\"176,-36 122,-36 122,0 176,0 176,-36\"/>\n",
              "<text text-anchor=\"middle\" x=\"149\" y=\"-14.3\" font-family=\"Helvetica,sans-Serif\" font-size=\"14.00\">(...)</text>\n",
              "</g>\n",
              "<!-- 2&#45;&gt;4 -->\n",
              "<g id=\"edge4\" class=\"edge\">\n",
              "<title>2&#45;&gt;4</title>\n",
              "<path fill=\"none\" stroke=\"black\" d=\"M124.79,-71.8C128.66,-63.35 132.97,-53.95 136.87,-45.45\"/>\n",
              "<polygon fill=\"black\" stroke=\"black\" points=\"140.07,-46.88 141.05,-36.33 133.7,-43.96 140.07,-46.88\"/>\n",
              "</g>\n",
              "<!-- 6 -->\n",
              "<g id=\"node7\" class=\"node\">\n",
              "<title>6</title>\n",
              "<polygon fill=\"#c0c0c0\" stroke=\"black\" points=\"356,-36 302,-36 302,0 356,0 356,-36\"/>\n",
              "<text text-anchor=\"middle\" x=\"329\" y=\"-14.3\" font-family=\"Helvetica,sans-Serif\" font-size=\"14.00\">(...)</text>\n",
              "</g>\n",
              "<!-- 5&#45;&gt;6 -->\n",
              "<g id=\"edge6\" class=\"edge\">\n",
              "<title>5&#45;&gt;6</title>\n",
              "<path fill=\"none\" stroke=\"black\" d=\"M353.21,-71.8C349.34,-63.35 345.03,-53.95 341.13,-45.45\"/>\n",
              "<polygon fill=\"black\" stroke=\"black\" points=\"344.3,-43.96 336.95,-36.33 337.93,-46.88 344.3,-43.96\"/>\n",
              "</g>\n",
              "<!-- 17 -->\n",
              "<g id=\"node8\" class=\"node\">\n",
              "<title>17</title>\n",
              "<polygon fill=\"#c0c0c0\" stroke=\"black\" points=\"428,-36 374,-36 374,0 428,0 428,-36\"/>\n",
              "<text text-anchor=\"middle\" x=\"401\" y=\"-14.3\" font-family=\"Helvetica,sans-Serif\" font-size=\"14.00\">(...)</text>\n",
              "</g>\n",
              "<!-- 5&#45;&gt;17 -->\n",
              "<g id=\"edge7\" class=\"edge\">\n",
              "<title>5&#45;&gt;17</title>\n",
              "<path fill=\"none\" stroke=\"black\" d=\"M376.79,-71.8C380.66,-63.35 384.97,-53.95 388.87,-45.45\"/>\n",
              "<polygon fill=\"black\" stroke=\"black\" points=\"392.07,-46.88 393.05,-36.33 385.7,-43.96 392.07,-46.88\"/>\n",
              "</g>\n",
              "<!-- 33 -->\n",
              "<g id=\"node10\" class=\"node\">\n",
              "<title>33</title>\n",
              "<polygon fill=\"#ffffff\" stroke=\"black\" points=\"716,-125 520,-125 520,-72 716,-72 716,-125\"/>\n",
              "<text text-anchor=\"middle\" x=\"618\" y=\"-109.8\" font-family=\"Helvetica,sans-Serif\" font-size=\"14.00\">Sex &lt;= 0.5</text>\n",
              "<text text-anchor=\"middle\" x=\"618\" y=\"-94.8\" font-family=\"Helvetica,sans-Serif\" font-size=\"14.00\">samples = 16.7%</text>\n",
              "<text text-anchor=\"middle\" x=\"618\" y=\"-79.8\" font-family=\"Helvetica,sans-Serif\" font-size=\"14.00\">value = [0.0, 0.5, 0.0, 0.0, 0.5]</text>\n",
              "</g>\n",
              "<!-- 32&#45;&gt;33 -->\n",
              "<g id=\"edge9\" class=\"edge\">\n",
              "<title>32&#45;&gt;33</title>\n",
              "<path fill=\"none\" stroke=\"black\" d=\"M623.64,-160.87C622.91,-152.89 622.09,-143.93 621.3,-135.38\"/>\n",
              "<polygon fill=\"black\" stroke=\"black\" points=\"624.77,-134.89 620.37,-125.25 617.8,-135.53 624.77,-134.89\"/>\n",
              "</g>\n",
              "<!-- 40 -->\n",
              "<g id=\"node13\" class=\"node\">\n",
              "<title>40</title>\n",
              "<polygon fill=\"#f5b2e6\" stroke=\"black\" points=\"974.5,-125 733.5,-125 733.5,-72 974.5,-72 974.5,-125\"/>\n",
              "<text text-anchor=\"middle\" x=\"854\" y=\"-109.8\" font-family=\"Helvetica,sans-Serif\" font-size=\"14.00\">BP &lt;= 1.5</text>\n",
              "<text text-anchor=\"middle\" x=\"854\" y=\"-94.8\" font-family=\"Helvetica,sans-Serif\" font-size=\"14.00\">samples = 17.6%</text>\n",
              "<text text-anchor=\"middle\" x=\"854\" y=\"-79.8\" font-family=\"Helvetica,sans-Serif\" font-size=\"14.00\">value = [0.0, 0.0, 0.115, 0.308, 0.577]</text>\n",
              "</g>\n",
              "<!-- 32&#45;&gt;40 -->\n",
              "<g id=\"edge12\" class=\"edge\">\n",
              "<title>32&#45;&gt;40</title>\n",
              "<path fill=\"none\" stroke=\"black\" d=\"M692.87,-160.98C719.43,-150.85 750.14,-139.13 777.58,-128.66\"/>\n",
              "<polygon fill=\"black\" stroke=\"black\" points=\"779.04,-131.85 787.13,-125.01 776.54,-125.31 779.04,-131.85\"/>\n",
              "</g>\n",
              "<!-- 34 -->\n",
              "<g id=\"node11\" class=\"node\">\n",
              "<title>34</title>\n",
              "<polygon fill=\"#c0c0c0\" stroke=\"black\" points=\"609,-36 555,-36 555,0 609,0 609,-36\"/>\n",
              "<text text-anchor=\"middle\" x=\"582\" y=\"-14.3\" font-family=\"Helvetica,sans-Serif\" font-size=\"14.00\">(...)</text>\n",
              "</g>\n",
              "<!-- 33&#45;&gt;34 -->\n",
              "<g id=\"edge10\" class=\"edge\">\n",
              "<title>33&#45;&gt;34</title>\n",
              "<path fill=\"none\" stroke=\"black\" d=\"M606.21,-71.8C602.34,-63.35 598.03,-53.95 594.13,-45.45\"/>\n",
              "<polygon fill=\"black\" stroke=\"black\" points=\"597.3,-43.96 589.95,-36.33 590.93,-46.88 597.3,-43.96\"/>\n",
              "</g>\n",
              "<!-- 37 -->\n",
              "<g id=\"node12\" class=\"node\">\n",
              "<title>37</title>\n",
              "<polygon fill=\"#c0c0c0\" stroke=\"black\" points=\"681,-36 627,-36 627,0 681,0 681,-36\"/>\n",
              "<text text-anchor=\"middle\" x=\"654\" y=\"-14.3\" font-family=\"Helvetica,sans-Serif\" font-size=\"14.00\">(...)</text>\n",
              "</g>\n",
              "<!-- 33&#45;&gt;37 -->\n",
              "<g id=\"edge11\" class=\"edge\">\n",
              "<title>33&#45;&gt;37</title>\n",
              "<path fill=\"none\" stroke=\"black\" d=\"M629.79,-71.8C633.66,-63.35 637.97,-53.95 641.87,-45.45\"/>\n",
              "<polygon fill=\"black\" stroke=\"black\" points=\"645.07,-46.88 646.05,-36.33 638.7,-43.96 645.07,-46.88\"/>\n",
              "</g>\n",
              "<!-- 41 -->\n",
              "<g id=\"node14\" class=\"node\">\n",
              "<title>41</title>\n",
              "<polygon fill=\"#c0c0c0\" stroke=\"black\" points=\"845,-36 791,-36 791,0 845,0 845,-36\"/>\n",
              "<text text-anchor=\"middle\" x=\"818\" y=\"-14.3\" font-family=\"Helvetica,sans-Serif\" font-size=\"14.00\">(...)</text>\n",
              "</g>\n",
              "<!-- 40&#45;&gt;41 -->\n",
              "<g id=\"edge13\" class=\"edge\">\n",
              "<title>40&#45;&gt;41</title>\n",
              "<path fill=\"none\" stroke=\"black\" d=\"M842.21,-71.8C838.34,-63.35 834.03,-53.95 830.13,-45.45\"/>\n",
              "<polygon fill=\"black\" stroke=\"black\" points=\"833.3,-43.96 825.95,-36.33 826.93,-46.88 833.3,-43.96\"/>\n",
              "</g>\n",
              "<!-- 48 -->\n",
              "<g id=\"node15\" class=\"node\">\n",
              "<title>48</title>\n",
              "<polygon fill=\"#c0c0c0\" stroke=\"black\" points=\"917,-36 863,-36 863,0 917,0 917,-36\"/>\n",
              "<text text-anchor=\"middle\" x=\"890\" y=\"-14.3\" font-family=\"Helvetica,sans-Serif\" font-size=\"14.00\">(...)</text>\n",
              "</g>\n",
              "<!-- 40&#45;&gt;48 -->\n",
              "<g id=\"edge14\" class=\"edge\">\n",
              "<title>40&#45;&gt;48</title>\n",
              "<path fill=\"none\" stroke=\"black\" d=\"M865.79,-71.8C869.66,-63.35 873.97,-53.95 877.87,-45.45\"/>\n",
              "<polygon fill=\"black\" stroke=\"black\" points=\"881.07,-46.88 882.05,-36.33 874.7,-43.96 881.07,-46.88\"/>\n",
              "</g>\n",
              "</g>\n",
              "</svg>\n"
            ],
            "text/plain": [
              "<graphviz.sources.Source at 0x7c8697b47610>"
            ]
          },
          "metadata": {},
          "output_type": "display_data"
        },
        {
          "data": {
            "image/svg+xml": [
              "<?xml version=\"1.0\" encoding=\"UTF-8\" standalone=\"no\"?>\n",
              "<!DOCTYPE svg PUBLIC \"-//W3C//DTD SVG 1.1//EN\"\n",
              " \"http://www.w3.org/Graphics/SVG/1.1/DTD/svg11.dtd\">\n",
              "<!-- Generated by graphviz version 2.43.0 (0)\n",
              " -->\n",
              "<!-- Title: Tree Pages: 1 -->\n",
              "<svg width=\"936pt\" height=\"311pt\"\n",
              " viewBox=\"0.00 0.00 936.00 311.00\" xmlns=\"http://www.w3.org/2000/svg\" xmlns:xlink=\"http://www.w3.org/1999/xlink\">\n",
              "<g id=\"graph0\" class=\"graph\" transform=\"scale(1 1) rotate(0) translate(4 307)\">\n",
              "<title>Tree</title>\n",
              "<polygon fill=\"white\" stroke=\"transparent\" points=\"-4,4 -4,-307 932,-307 932,4 -4,4\"/>\n",
              "<!-- 0 -->\n",
              "<g id=\"node1\" class=\"node\">\n",
              "<title>0</title>\n",
              "<polygon fill=\"#f8c7ed\" stroke=\"black\" points=\"614.5,-303 343.5,-303 343.5,-250 614.5,-250 614.5,-303\"/>\n",
              "<text text-anchor=\"middle\" x=\"479\" y=\"-287.8\" font-family=\"Helvetica,sans-Serif\" font-size=\"14.00\">BP &lt;= 0.5</text>\n",
              "<text text-anchor=\"middle\" x=\"479\" y=\"-272.8\" font-family=\"Helvetica,sans-Serif\" font-size=\"14.00\">samples = 100.0%</text>\n",
              "<text text-anchor=\"middle\" x=\"479\" y=\"-257.8\" font-family=\"Helvetica,sans-Serif\" font-size=\"14.00\">value = [0.094, 0.069, 0.062, 0.288, 0.488]</text>\n",
              "</g>\n",
              "<!-- 1 -->\n",
              "<g id=\"node2\" class=\"node\">\n",
              "<title>1</title>\n",
              "<polygon fill=\"#f4abe4\" stroke=\"black\" points=\"473.5,-214 240.5,-214 240.5,-161 473.5,-161 473.5,-214\"/>\n",
              "<text text-anchor=\"middle\" x=\"357\" y=\"-198.8\" font-family=\"Helvetica,sans-Serif\" font-size=\"14.00\">Age &lt;= 0.435</text>\n",
              "<text text-anchor=\"middle\" x=\"357\" y=\"-183.8\" font-family=\"Helvetica,sans-Serif\" font-size=\"14.00\">samples = 38.5%</text>\n",
              "<text text-anchor=\"middle\" x=\"357\" y=\"-168.8\" font-family=\"Helvetica,sans-Serif\" font-size=\"14.00\">value = [0.25, 0.183, 0.0, 0.0, 0.567]</text>\n",
              "</g>\n",
              "<!-- 0&#45;&gt;1 -->\n",
              "<g id=\"edge1\" class=\"edge\">\n",
              "<title>0&#45;&gt;1</title>\n",
              "<path fill=\"none\" stroke=\"black\" d=\"M443.06,-249.87C430.02,-240.57 415.13,-229.95 401.45,-220.2\"/>\n",
              "<polygon fill=\"black\" stroke=\"black\" points=\"403.28,-217.21 393.11,-214.25 399.22,-222.91 403.28,-217.21\"/>\n",
              "<text text-anchor=\"middle\" x=\"397.24\" y=\"-235.21\" font-family=\"Helvetica,sans-Serif\" font-size=\"14.00\">True</text>\n",
              "</g>\n",
              "<!-- 22 -->\n",
              "<g id=\"node9\" class=\"node\">\n",
              "<title>22</title>\n",
              "<polygon fill=\"#f8f8fe\" stroke=\"black\" points=\"706.5,-214 495.5,-214 495.5,-161 706.5,-161 706.5,-214\"/>\n",
              "<text text-anchor=\"middle\" x=\"601\" y=\"-198.8\" font-family=\"Helvetica,sans-Serif\" font-size=\"14.00\">Na_to_K &lt;= &#45;0.202</text>\n",
              "<text text-anchor=\"middle\" x=\"601\" y=\"-183.8\" font-family=\"Helvetica,sans-Serif\" font-size=\"14.00\">samples = 61.5%</text>\n",
              "<text text-anchor=\"middle\" x=\"601\" y=\"-168.8\" font-family=\"Helvetica,sans-Serif\" font-size=\"14.00\">value = [0.0, 0.0, 0.1, 0.46, 0.44]</text>\n",
              "</g>\n",
              "<!-- 0&#45;&gt;22 -->\n",
              "<g id=\"edge8\" class=\"edge\">\n",
              "<title>0&#45;&gt;22</title>\n",
              "<path fill=\"none\" stroke=\"black\" d=\"M514.94,-249.87C527.98,-240.57 542.87,-229.95 556.55,-220.2\"/>\n",
              "<polygon fill=\"black\" stroke=\"black\" points=\"558.78,-222.91 564.89,-214.25 554.72,-217.21 558.78,-222.91\"/>\n",
              "<text text-anchor=\"middle\" x=\"560.76\" y=\"-235.21\" font-family=\"Helvetica,sans-Serif\" font-size=\"14.00\">False</text>\n",
              "</g>\n",
              "<!-- 2 -->\n",
              "<g id=\"node3\" class=\"node\">\n",
              "<title>2</title>\n",
              "<polygon fill=\"#f5b5e7\" stroke=\"black\" points=\"226,-125 0,-125 0,-72 226,-72 226,-125\"/>\n",
              "<text text-anchor=\"middle\" x=\"113\" y=\"-109.8\" font-family=\"Helvetica,sans-Serif\" font-size=\"14.00\">Sex &lt;= 0.5</text>\n",
              "<text text-anchor=\"middle\" x=\"113\" y=\"-94.8\" font-family=\"Helvetica,sans-Serif\" font-size=\"14.00\">samples = 24.0%</text>\n",
              "<text text-anchor=\"middle\" x=\"113\" y=\"-79.8\" font-family=\"Helvetica,sans-Serif\" font-size=\"14.00\">value = [0.385, 0.0, 0.0, 0.0, 0.615]</text>\n",
              "</g>\n",
              "<!-- 1&#45;&gt;2 -->\n",
              "<g id=\"edge2\" class=\"edge\">\n",
              "<title>1&#45;&gt;2</title>\n",
              "<path fill=\"none\" stroke=\"black\" d=\"M285.44,-160.98C256.76,-150.76 223.57,-138.93 194.02,-128.39\"/>\n",
              "<polygon fill=\"black\" stroke=\"black\" points=\"195.15,-125.08 184.56,-125.01 192.8,-131.67 195.15,-125.08\"/>\n",
              "</g>\n",
              "<!-- 17 -->\n",
              "<g id=\"node6\" class=\"node\">\n",
              "<title>17</title>\n",
              "<polygon fill=\"#f3fded\" stroke=\"black\" points=\"470,-125 244,-125 244,-72 470,-72 470,-125\"/>\n",
              "<text text-anchor=\"middle\" x=\"357\" y=\"-109.8\" font-family=\"Helvetica,sans-Serif\" font-size=\"14.00\">Age &lt;= 1.708</text>\n",
              "<text text-anchor=\"middle\" x=\"357\" y=\"-94.8\" font-family=\"Helvetica,sans-Serif\" font-size=\"14.00\">samples = 14.4%</text>\n",
              "<text text-anchor=\"middle\" x=\"357\" y=\"-79.8\" font-family=\"Helvetica,sans-Serif\" font-size=\"14.00\">value = [0.0, 0.524, 0.0, 0.0, 0.476]</text>\n",
              "</g>\n",
              "<!-- 1&#45;&gt;17 -->\n",
              "<g id=\"edge5\" class=\"edge\">\n",
              "<title>1&#45;&gt;17</title>\n",
              "<path fill=\"none\" stroke=\"black\" d=\"M357,-160.87C357,-152.89 357,-143.93 357,-135.38\"/>\n",
              "<polygon fill=\"black\" stroke=\"black\" points=\"360.5,-135.25 357,-125.25 353.5,-135.25 360.5,-135.25\"/>\n",
              "</g>\n",
              "<!-- 3 -->\n",
              "<g id=\"node4\" class=\"node\">\n",
              "<title>3</title>\n",
              "<polygon fill=\"#c0c0c0\" stroke=\"black\" points=\"104,-36 50,-36 50,0 104,0 104,-36\"/>\n",
              "<text text-anchor=\"middle\" x=\"77\" y=\"-14.3\" font-family=\"Helvetica,sans-Serif\" font-size=\"14.00\">(...)</text>\n",
              "</g>\n",
              "<!-- 2&#45;&gt;3 -->\n",
              "<g id=\"edge3\" class=\"edge\">\n",
              "<title>2&#45;&gt;3</title>\n",
              "<path fill=\"none\" stroke=\"black\" d=\"M101.21,-71.8C97.34,-63.35 93.03,-53.95 89.13,-45.45\"/>\n",
              "<polygon fill=\"black\" stroke=\"black\" points=\"92.3,-43.96 84.95,-36.33 85.93,-46.88 92.3,-43.96\"/>\n",
              "</g>\n",
              "<!-- 8 -->\n",
              "<g id=\"node5\" class=\"node\">\n",
              "<title>8</title>\n",
              "<polygon fill=\"#c0c0c0\" stroke=\"black\" points=\"176,-36 122,-36 122,0 176,0 176,-36\"/>\n",
              "<text text-anchor=\"middle\" x=\"149\" y=\"-14.3\" font-family=\"Helvetica,sans-Serif\" font-size=\"14.00\">(...)</text>\n",
              "</g>\n",
              "<!-- 2&#45;&gt;8 -->\n",
              "<g id=\"edge4\" class=\"edge\">\n",
              "<title>2&#45;&gt;8</title>\n",
              "<path fill=\"none\" stroke=\"black\" d=\"M124.79,-71.8C128.66,-63.35 132.97,-53.95 136.87,-45.45\"/>\n",
              "<polygon fill=\"black\" stroke=\"black\" points=\"140.07,-46.88 141.05,-36.33 133.7,-43.96 140.07,-46.88\"/>\n",
              "</g>\n",
              "<!-- 18 -->\n",
              "<g id=\"node7\" class=\"node\">\n",
              "<title>18</title>\n",
              "<polygon fill=\"#c0c0c0\" stroke=\"black\" points=\"348,-36 294,-36 294,0 348,0 348,-36\"/>\n",
              "<text text-anchor=\"middle\" x=\"321\" y=\"-14.3\" font-family=\"Helvetica,sans-Serif\" font-size=\"14.00\">(...)</text>\n",
              "</g>\n",
              "<!-- 17&#45;&gt;18 -->\n",
              "<g id=\"edge6\" class=\"edge\">\n",
              "<title>17&#45;&gt;18</title>\n",
              "<path fill=\"none\" stroke=\"black\" d=\"M345.21,-71.8C341.34,-63.35 337.03,-53.95 333.13,-45.45\"/>\n",
              "<polygon fill=\"black\" stroke=\"black\" points=\"336.3,-43.96 328.95,-36.33 329.93,-46.88 336.3,-43.96\"/>\n",
              "</g>\n",
              "<!-- 21 -->\n",
              "<g id=\"node8\" class=\"node\">\n",
              "<title>21</title>\n",
              "<polygon fill=\"#c0c0c0\" stroke=\"black\" points=\"420,-36 366,-36 366,0 420,0 420,-36\"/>\n",
              "<text text-anchor=\"middle\" x=\"393\" y=\"-14.3\" font-family=\"Helvetica,sans-Serif\" font-size=\"14.00\">(...)</text>\n",
              "</g>\n",
              "<!-- 17&#45;&gt;21 -->\n",
              "<g id=\"edge7\" class=\"edge\">\n",
              "<title>17&#45;&gt;21</title>\n",
              "<path fill=\"none\" stroke=\"black\" d=\"M368.79,-71.8C372.66,-63.35 376.97,-53.95 380.87,-45.45\"/>\n",
              "<polygon fill=\"black\" stroke=\"black\" points=\"384.07,-46.88 385.05,-36.33 377.7,-43.96 384.07,-46.88\"/>\n",
              "</g>\n",
              "<!-- 23 -->\n",
              "<g id=\"node10\" class=\"node\">\n",
              "<title>23</title>\n",
              "<polygon fill=\"#6664eb\" stroke=\"black\" points=\"714,-125 488,-125 488,-72 714,-72 714,-125\"/>\n",
              "<text text-anchor=\"middle\" x=\"601\" y=\"-109.8\" font-family=\"Helvetica,sans-Serif\" font-size=\"14.00\">Cholesterol &lt;= 0.5</text>\n",
              "<text text-anchor=\"middle\" x=\"601\" y=\"-94.8\" font-family=\"Helvetica,sans-Serif\" font-size=\"14.00\">samples = 31.7%</text>\n",
              "<text text-anchor=\"middle\" x=\"601\" y=\"-79.8\" font-family=\"Helvetica,sans-Serif\" font-size=\"14.00\">value = [0.0, 0.0, 0.179, 0.821, 0.0]</text>\n",
              "</g>\n",
              "<!-- 22&#45;&gt;23 -->\n",
              "<g id=\"edge9\" class=\"edge\">\n",
              "<title>22&#45;&gt;23</title>\n",
              "<path fill=\"none\" stroke=\"black\" d=\"M601,-160.87C601,-152.89 601,-143.93 601,-135.38\"/>\n",
              "<polygon fill=\"black\" stroke=\"black\" points=\"604.5,-135.25 601,-125.25 597.5,-135.25 604.5,-135.25\"/>\n",
              "</g>\n",
              "<!-- 28 -->\n",
              "<g id=\"node13\" class=\"node\">\n",
              "<title>28</title>\n",
              "<polygon fill=\"#e539c0\" stroke=\"black\" points=\"928,-117.5 732,-117.5 732,-79.5 928,-79.5 928,-117.5\"/>\n",
              "<text text-anchor=\"middle\" x=\"830\" y=\"-102.3\" font-family=\"Helvetica,sans-Serif\" font-size=\"14.00\">samples = 29.8%</text>\n",
              "<text text-anchor=\"middle\" x=\"830\" y=\"-87.3\" font-family=\"Helvetica,sans-Serif\" font-size=\"14.00\">value = [0.0, 0.0, 0.0, 0.0, 1.0]</text>\n",
              "</g>\n",
              "<!-- 22&#45;&gt;28 -->\n",
              "<g id=\"edge12\" class=\"edge\">\n",
              "<title>22&#45;&gt;28</title>\n",
              "<path fill=\"none\" stroke=\"black\" d=\"M668.16,-160.98C701.41,-148.35 741.12,-133.27 772.89,-121.2\"/>\n",
              "<polygon fill=\"black\" stroke=\"black\" points=\"774.37,-124.38 782.48,-117.55 771.88,-117.83 774.37,-124.38\"/>\n",
              "</g>\n",
              "<!-- 24 -->\n",
              "<g id=\"node11\" class=\"node\">\n",
              "<title>24</title>\n",
              "<polygon fill=\"#c0c0c0\" stroke=\"black\" points=\"592,-36 538,-36 538,0 592,0 592,-36\"/>\n",
              "<text text-anchor=\"middle\" x=\"565\" y=\"-14.3\" font-family=\"Helvetica,sans-Serif\" font-size=\"14.00\">(...)</text>\n",
              "</g>\n",
              "<!-- 23&#45;&gt;24 -->\n",
              "<g id=\"edge10\" class=\"edge\">\n",
              "<title>23&#45;&gt;24</title>\n",
              "<path fill=\"none\" stroke=\"black\" d=\"M589.21,-71.8C585.34,-63.35 581.03,-53.95 577.13,-45.45\"/>\n",
              "<polygon fill=\"black\" stroke=\"black\" points=\"580.3,-43.96 572.95,-36.33 573.93,-46.88 580.3,-43.96\"/>\n",
              "</g>\n",
              "<!-- 27 -->\n",
              "<g id=\"node12\" class=\"node\">\n",
              "<title>27</title>\n",
              "<polygon fill=\"#c0c0c0\" stroke=\"black\" points=\"664,-36 610,-36 610,0 664,0 664,-36\"/>\n",
              "<text text-anchor=\"middle\" x=\"637\" y=\"-14.3\" font-family=\"Helvetica,sans-Serif\" font-size=\"14.00\">(...)</text>\n",
              "</g>\n",
              "<!-- 23&#45;&gt;27 -->\n",
              "<g id=\"edge11\" class=\"edge\">\n",
              "<title>23&#45;&gt;27</title>\n",
              "<path fill=\"none\" stroke=\"black\" d=\"M612.79,-71.8C616.66,-63.35 620.97,-53.95 624.87,-45.45\"/>\n",
              "<polygon fill=\"black\" stroke=\"black\" points=\"628.07,-46.88 629.05,-36.33 621.7,-43.96 628.07,-46.88\"/>\n",
              "</g>\n",
              "</g>\n",
              "</svg>\n"
            ],
            "text/plain": [
              "<graphviz.sources.Source at 0x7c8697b46c20>"
            ]
          },
          "metadata": {},
          "output_type": "display_data"
        },
        {
          "data": {
            "image/svg+xml": [
              "<?xml version=\"1.0\" encoding=\"UTF-8\" standalone=\"no\"?>\n",
              "<!DOCTYPE svg PUBLIC \"-//W3C//DTD SVG 1.1//EN\"\n",
              " \"http://www.w3.org/Graphics/SVG/1.1/DTD/svg11.dtd\">\n",
              "<!-- Generated by graphviz version 2.43.0 (0)\n",
              " -->\n",
              "<!-- Title: Tree Pages: 1 -->\n",
              "<svg width=\"600pt\" height=\"311pt\"\n",
              " viewBox=\"0.00 0.00 599.50 311.00\" xmlns=\"http://www.w3.org/2000/svg\" xmlns:xlink=\"http://www.w3.org/1999/xlink\">\n",
              "<g id=\"graph0\" class=\"graph\" transform=\"scale(1 1) rotate(0) translate(4 307)\">\n",
              "<title>Tree</title>\n",
              "<polygon fill=\"white\" stroke=\"transparent\" points=\"-4,4 -4,-307 595.5,-307 595.5,4 -4,4\"/>\n",
              "<!-- 0 -->\n",
              "<g id=\"node1\" class=\"node\">\n",
              "<title>0</title>\n",
              "<polygon fill=\"#fadaf3\" stroke=\"black\" points=\"507,-303 236,-303 236,-250 507,-250 507,-303\"/>\n",
              "<text text-anchor=\"middle\" x=\"371.5\" y=\"-287.8\" font-family=\"Helvetica,sans-Serif\" font-size=\"14.00\">Na_to_K &lt;= &#45;0.174</text>\n",
              "<text text-anchor=\"middle\" x=\"371.5\" y=\"-272.8\" font-family=\"Helvetica,sans-Serif\" font-size=\"14.00\">samples = 100.0%</text>\n",
              "<text text-anchor=\"middle\" x=\"371.5\" y=\"-257.8\" font-family=\"Helvetica,sans-Serif\" font-size=\"14.00\">value = [0.125, 0.094, 0.062, 0.294, 0.425]</text>\n",
              "</g>\n",
              "<!-- 1 -->\n",
              "<g id=\"node2\" class=\"node\">\n",
              "<title>1</title>\n",
              "<polygon fill=\"#b6b5f5\" stroke=\"black\" points=\"377.5,-214 121.5,-214 121.5,-161 377.5,-161 377.5,-214\"/>\n",
              "<text text-anchor=\"middle\" x=\"249.5\" y=\"-198.8\" font-family=\"Helvetica,sans-Serif\" font-size=\"14.00\">Age &lt;= 0.375</text>\n",
              "<text text-anchor=\"middle\" x=\"249.5\" y=\"-183.8\" font-family=\"Helvetica,sans-Serif\" font-size=\"14.00\">samples = 58.0%</text>\n",
              "<text text-anchor=\"middle\" x=\"249.5\" y=\"-168.8\" font-family=\"Helvetica,sans-Serif\" font-size=\"14.00\">value = [0.217, 0.163, 0.109, 0.511, 0.0]</text>\n",
              "</g>\n",
              "<!-- 0&#45;&gt;1 -->\n",
              "<g id=\"edge1\" class=\"edge\">\n",
              "<title>0&#45;&gt;1</title>\n",
              "<path fill=\"none\" stroke=\"black\" d=\"M335.56,-249.87C322.52,-240.57 307.63,-229.95 293.95,-220.2\"/>\n",
              "<polygon fill=\"black\" stroke=\"black\" points=\"295.78,-217.21 285.61,-214.25 291.72,-222.91 295.78,-217.21\"/>\n",
              "<text text-anchor=\"middle\" x=\"289.74\" y=\"-235.21\" font-family=\"Helvetica,sans-Serif\" font-size=\"14.00\">True</text>\n",
              "</g>\n",
              "<!-- 38 -->\n",
              "<g id=\"node9\" class=\"node\">\n",
              "<title>38</title>\n",
              "<polygon fill=\"#e539c0\" stroke=\"black\" points=\"591.5,-206.5 395.5,-206.5 395.5,-168.5 591.5,-168.5 591.5,-206.5\"/>\n",
              "<text text-anchor=\"middle\" x=\"493.5\" y=\"-191.3\" font-family=\"Helvetica,sans-Serif\" font-size=\"14.00\">samples = 42.0%</text>\n",
              "<text text-anchor=\"middle\" x=\"493.5\" y=\"-176.3\" font-family=\"Helvetica,sans-Serif\" font-size=\"14.00\">value = [0.0, 0.0, 0.0, 0.0, 1.0]</text>\n",
              "</g>\n",
              "<!-- 0&#45;&gt;38 -->\n",
              "<g id=\"edge8\" class=\"edge\">\n",
              "<title>0&#45;&gt;38</title>\n",
              "<path fill=\"none\" stroke=\"black\" d=\"M407.44,-249.87C424.08,-238 443.73,-223.99 460.05,-212.35\"/>\n",
              "<polygon fill=\"black\" stroke=\"black\" points=\"462.14,-215.16 468.25,-206.51 458.08,-209.46 462.14,-215.16\"/>\n",
              "<text text-anchor=\"middle\" x=\"464.12\" y=\"-227.46\" font-family=\"Helvetica,sans-Serif\" font-size=\"14.00\">False</text>\n",
              "</g>\n",
              "<!-- 2 -->\n",
              "<g id=\"node3\" class=\"node\">\n",
              "<title>2</title>\n",
              "<polygon fill=\"#b2b1f5\" stroke=\"black\" points=\"241,-125 0,-125 0,-72 241,-72 241,-125\"/>\n",
              "<text text-anchor=\"middle\" x=\"120.5\" y=\"-109.8\" font-family=\"Helvetica,sans-Serif\" font-size=\"14.00\">Age &lt;= 0.102</text>\n",
              "<text text-anchor=\"middle\" x=\"120.5\" y=\"-94.8\" font-family=\"Helvetica,sans-Serif\" font-size=\"14.00\">samples = 40.0%</text>\n",
              "<text text-anchor=\"middle\" x=\"120.5\" y=\"-79.8\" font-family=\"Helvetica,sans-Serif\" font-size=\"14.00\">value = [0.317, 0.0, 0.095, 0.587, 0.0]</text>\n",
              "</g>\n",
              "<!-- 1&#45;&gt;2 -->\n",
              "<g id=\"edge2\" class=\"edge\">\n",
              "<title>1&#45;&gt;2</title>\n",
              "<path fill=\"none\" stroke=\"black\" d=\"M211.49,-160.87C197.58,-151.48 181.67,-140.75 167.09,-130.92\"/>\n",
              "<polygon fill=\"black\" stroke=\"black\" points=\"168.93,-127.94 158.68,-125.25 165.01,-133.74 168.93,-127.94\"/>\n",
              "</g>\n",
              "<!-- 27 -->\n",
              "<g id=\"node6\" class=\"node\">\n",
              "<title>27</title>\n",
              "<polygon fill=\"#dcf8cb\" stroke=\"black\" points=\"500,-125 259,-125 259,-72 500,-72 500,-125\"/>\n",
              "<text text-anchor=\"middle\" x=\"379.5\" y=\"-109.8\" font-family=\"Helvetica,sans-Serif\" font-size=\"14.00\">Na_to_K &lt;= &#45;1.164</text>\n",
              "<text text-anchor=\"middle\" x=\"379.5\" y=\"-94.8\" font-family=\"Helvetica,sans-Serif\" font-size=\"14.00\">samples = 18.0%</text>\n",
              "<text text-anchor=\"middle\" x=\"379.5\" y=\"-79.8\" font-family=\"Helvetica,sans-Serif\" font-size=\"14.00\">value = [0.0, 0.517, 0.138, 0.345, 0.0]</text>\n",
              "</g>\n",
              "<!-- 1&#45;&gt;27 -->\n",
              "<g id=\"edge5\" class=\"edge\">\n",
              "<title>1&#45;&gt;27</title>\n",
              "<path fill=\"none\" stroke=\"black\" d=\"M287.8,-160.87C301.83,-151.48 317.86,-140.75 332.55,-130.92\"/>\n",
              "<polygon fill=\"black\" stroke=\"black\" points=\"334.66,-133.72 341.02,-125.25 330.77,-127.9 334.66,-133.72\"/>\n",
              "</g>\n",
              "<!-- 3 -->\n",
              "<g id=\"node4\" class=\"node\">\n",
              "<title>3</title>\n",
              "<polygon fill=\"#c0c0c0\" stroke=\"black\" points=\"111.5,-36 57.5,-36 57.5,0 111.5,0 111.5,-36\"/>\n",
              "<text text-anchor=\"middle\" x=\"84.5\" y=\"-14.3\" font-family=\"Helvetica,sans-Serif\" font-size=\"14.00\">(...)</text>\n",
              "</g>\n",
              "<!-- 2&#45;&gt;3 -->\n",
              "<g id=\"edge3\" class=\"edge\">\n",
              "<title>2&#45;&gt;3</title>\n",
              "<path fill=\"none\" stroke=\"black\" d=\"M108.71,-71.8C104.84,-63.35 100.53,-53.95 96.63,-45.45\"/>\n",
              "<polygon fill=\"black\" stroke=\"black\" points=\"99.8,-43.96 92.45,-36.33 93.43,-46.88 99.8,-43.96\"/>\n",
              "</g>\n",
              "<!-- 18 -->\n",
              "<g id=\"node5\" class=\"node\">\n",
              "<title>18</title>\n",
              "<polygon fill=\"#c0c0c0\" stroke=\"black\" points=\"183.5,-36 129.5,-36 129.5,0 183.5,0 183.5,-36\"/>\n",
              "<text text-anchor=\"middle\" x=\"156.5\" y=\"-14.3\" font-family=\"Helvetica,sans-Serif\" font-size=\"14.00\">(...)</text>\n",
              "</g>\n",
              "<!-- 2&#45;&gt;18 -->\n",
              "<g id=\"edge4\" class=\"edge\">\n",
              "<title>2&#45;&gt;18</title>\n",
              "<path fill=\"none\" stroke=\"black\" d=\"M132.29,-71.8C136.16,-63.35 140.47,-53.95 144.37,-45.45\"/>\n",
              "<polygon fill=\"black\" stroke=\"black\" points=\"147.57,-46.88 148.55,-36.33 141.2,-43.96 147.57,-46.88\"/>\n",
              "</g>\n",
              "<!-- 28 -->\n",
              "<g id=\"node7\" class=\"node\">\n",
              "<title>28</title>\n",
              "<polygon fill=\"#c0c0c0\" stroke=\"black\" points=\"370.5,-36 316.5,-36 316.5,0 370.5,0 370.5,-36\"/>\n",
              "<text text-anchor=\"middle\" x=\"343.5\" y=\"-14.3\" font-family=\"Helvetica,sans-Serif\" font-size=\"14.00\">(...)</text>\n",
              "</g>\n",
              "<!-- 27&#45;&gt;28 -->\n",
              "<g id=\"edge6\" class=\"edge\">\n",
              "<title>27&#45;&gt;28</title>\n",
              "<path fill=\"none\" stroke=\"black\" d=\"M367.71,-71.8C363.84,-63.35 359.53,-53.95 355.63,-45.45\"/>\n",
              "<polygon fill=\"black\" stroke=\"black\" points=\"358.8,-43.96 351.45,-36.33 352.43,-46.88 358.8,-43.96\"/>\n",
              "</g>\n",
              "<!-- 29 -->\n",
              "<g id=\"node8\" class=\"node\">\n",
              "<title>29</title>\n",
              "<polygon fill=\"#c0c0c0\" stroke=\"black\" points=\"442.5,-36 388.5,-36 388.5,0 442.5,0 442.5,-36\"/>\n",
              "<text text-anchor=\"middle\" x=\"415.5\" y=\"-14.3\" font-family=\"Helvetica,sans-Serif\" font-size=\"14.00\">(...)</text>\n",
              "</g>\n",
              "<!-- 27&#45;&gt;29 -->\n",
              "<g id=\"edge7\" class=\"edge\">\n",
              "<title>27&#45;&gt;29</title>\n",
              "<path fill=\"none\" stroke=\"black\" d=\"M391.29,-71.8C395.16,-63.35 399.47,-53.95 403.37,-45.45\"/>\n",
              "<polygon fill=\"black\" stroke=\"black\" points=\"406.57,-46.88 407.55,-36.33 400.2,-43.96 406.57,-46.88\"/>\n",
              "</g>\n",
              "</g>\n",
              "</svg>\n"
            ],
            "text/plain": [
              "<graphviz.sources.Source at 0x7c8697b47610>"
            ]
          },
          "metadata": {},
          "output_type": "display_data"
        },
        {
          "data": {
            "image/svg+xml": [
              "<?xml version=\"1.0\" encoding=\"UTF-8\" standalone=\"no\"?>\n",
              "<!DOCTYPE svg PUBLIC \"-//W3C//DTD SVG 1.1//EN\"\n",
              " \"http://www.w3.org/Graphics/SVG/1.1/DTD/svg11.dtd\">\n",
              "<!-- Generated by graphviz version 2.43.0 (0)\n",
              " -->\n",
              "<!-- Title: Tree Pages: 1 -->\n",
              "<svg width=\"578pt\" height=\"311pt\"\n",
              " viewBox=\"0.00 0.00 577.50 311.00\" xmlns=\"http://www.w3.org/2000/svg\" xmlns:xlink=\"http://www.w3.org/1999/xlink\">\n",
              "<g id=\"graph0\" class=\"graph\" transform=\"scale(1 1) rotate(0) translate(4 307)\">\n",
              "<title>Tree</title>\n",
              "<polygon fill=\"white\" stroke=\"transparent\" points=\"-4,4 -4,-307 573.5,-307 573.5,4 -4,4\"/>\n",
              "<!-- 0 -->\n",
              "<g id=\"node1\" class=\"node\">\n",
              "<title>0</title>\n",
              "<polygon fill=\"#f5b6e8\" stroke=\"black\" points=\"487,-303 216,-303 216,-250 487,-250 487,-303\"/>\n",
              "<text text-anchor=\"middle\" x=\"351.5\" y=\"-287.8\" font-family=\"Helvetica,sans-Serif\" font-size=\"14.00\">Na_to_K &lt;= &#45;0.202</text>\n",
              "<text text-anchor=\"middle\" x=\"351.5\" y=\"-272.8\" font-family=\"Helvetica,sans-Serif\" font-size=\"14.00\">samples = 100.0%</text>\n",
              "<text text-anchor=\"middle\" x=\"351.5\" y=\"-257.8\" font-family=\"Helvetica,sans-Serif\" font-size=\"14.00\">value = [0.144, 0.044, 0.075, 0.225, 0.512]</text>\n",
              "</g>\n",
              "<!-- 1 -->\n",
              "<g id=\"node2\" class=\"node\">\n",
              "<title>1</title>\n",
              "<polygon fill=\"#d1d0f9\" stroke=\"black\" points=\"355.5,-214 107.5,-214 107.5,-161 355.5,-161 355.5,-214\"/>\n",
              "<text text-anchor=\"middle\" x=\"231.5\" y=\"-198.8\" font-family=\"Helvetica,sans-Serif\" font-size=\"14.00\">Na_to_K &lt;= &#45;0.922</text>\n",
              "<text text-anchor=\"middle\" x=\"231.5\" y=\"-183.8\" font-family=\"Helvetica,sans-Serif\" font-size=\"14.00\">samples = 51.0%</text>\n",
              "<text text-anchor=\"middle\" x=\"231.5\" y=\"-168.8\" font-family=\"Helvetica,sans-Serif\" font-size=\"14.00\">value = [0.295, 0.09, 0.154, 0.462, 0.0]</text>\n",
              "</g>\n",
              "<!-- 0&#45;&gt;1 -->\n",
              "<g id=\"edge1\" class=\"edge\">\n",
              "<title>0&#45;&gt;1</title>\n",
              "<path fill=\"none\" stroke=\"black\" d=\"M316.15,-249.87C303.32,-240.57 288.68,-229.95 275.22,-220.2\"/>\n",
              "<polygon fill=\"black\" stroke=\"black\" points=\"277.17,-217.29 267.02,-214.25 273.06,-222.95 277.17,-217.29\"/>\n",
              "<text text-anchor=\"middle\" x=\"270.95\" y=\"-235.24\" font-family=\"Helvetica,sans-Serif\" font-size=\"14.00\">True</text>\n",
              "</g>\n",
              "<!-- 48 -->\n",
              "<g id=\"node9\" class=\"node\">\n",
              "<title>48</title>\n",
              "<polygon fill=\"#e539c0\" stroke=\"black\" points=\"569.5,-206.5 373.5,-206.5 373.5,-168.5 569.5,-168.5 569.5,-206.5\"/>\n",
              "<text text-anchor=\"middle\" x=\"471.5\" y=\"-191.3\" font-family=\"Helvetica,sans-Serif\" font-size=\"14.00\">samples = 49.0%</text>\n",
              "<text text-anchor=\"middle\" x=\"471.5\" y=\"-176.3\" font-family=\"Helvetica,sans-Serif\" font-size=\"14.00\">value = [0.0, 0.0, 0.0, 0.0, 1.0]</text>\n",
              "</g>\n",
              "<!-- 0&#45;&gt;48 -->\n",
              "<g id=\"edge8\" class=\"edge\">\n",
              "<title>0&#45;&gt;48</title>\n",
              "<path fill=\"none\" stroke=\"black\" d=\"M386.85,-249.87C403.07,-238.11 422.19,-224.25 438.16,-212.67\"/>\n",
              "<polygon fill=\"black\" stroke=\"black\" points=\"440.62,-215.21 446.66,-206.51 436.51,-209.54 440.62,-215.21\"/>\n",
              "<text text-anchor=\"middle\" x=\"442.73\" y=\"-227.49\" font-family=\"Helvetica,sans-Serif\" font-size=\"14.00\">False</text>\n",
              "</g>\n",
              "<!-- 2 -->\n",
              "<g id=\"node3\" class=\"node\">\n",
              "<title>2</title>\n",
              "<polygon fill=\"#6a68eb\" stroke=\"black\" points=\"211,-125 0,-125 0,-72 211,-72 211,-125\"/>\n",
              "<text text-anchor=\"middle\" x=\"105.5\" y=\"-109.8\" font-family=\"Helvetica,sans-Serif\" font-size=\"14.00\">Sex &lt;= 0.5</text>\n",
              "<text text-anchor=\"middle\" x=\"105.5\" y=\"-94.8\" font-family=\"Helvetica,sans-Serif\" font-size=\"14.00\">samples = 13.7%</text>\n",
              "<text text-anchor=\"middle\" x=\"105.5\" y=\"-79.8\" font-family=\"Helvetica,sans-Serif\" font-size=\"14.00\">value = [0.16, 0.04, 0.0, 0.8, 0.0]</text>\n",
              "</g>\n",
              "<!-- 1&#45;&gt;2 -->\n",
              "<g id=\"edge2\" class=\"edge\">\n",
              "<title>1&#45;&gt;2</title>\n",
              "<path fill=\"none\" stroke=\"black\" d=\"M194.38,-160.87C180.91,-151.57 165.54,-140.95 151.4,-131.2\"/>\n",
              "<polygon fill=\"black\" stroke=\"black\" points=\"153.01,-128.05 142.79,-125.25 149.03,-133.81 153.01,-128.05\"/>\n",
              "</g>\n",
              "<!-- 11 -->\n",
              "<g id=\"node6\" class=\"node\">\n",
              "<title>11</title>\n",
              "<polygon fill=\"#fdf5ef\" stroke=\"black\" points=\"485.5,-125 229.5,-125 229.5,-72 485.5,-72 485.5,-125\"/>\n",
              "<text text-anchor=\"middle\" x=\"357.5\" y=\"-109.8\" font-family=\"Helvetica,sans-Serif\" font-size=\"14.00\">Na_to_K &lt;= &#45;0.29</text>\n",
              "<text text-anchor=\"middle\" x=\"357.5\" y=\"-94.8\" font-family=\"Helvetica,sans-Serif\" font-size=\"14.00\">samples = 37.3%</text>\n",
              "<text text-anchor=\"middle\" x=\"357.5\" y=\"-79.8\" font-family=\"Helvetica,sans-Serif\" font-size=\"14.00\">value = [0.358, 0.113, 0.226, 0.302, 0.0]</text>\n",
              "</g>\n",
              "<!-- 1&#45;&gt;11 -->\n",
              "<g id=\"edge5\" class=\"edge\">\n",
              "<title>1&#45;&gt;11</title>\n",
              "<path fill=\"none\" stroke=\"black\" d=\"M268.62,-160.87C282.09,-151.57 297.46,-140.95 311.6,-131.2\"/>\n",
              "<polygon fill=\"black\" stroke=\"black\" points=\"313.97,-133.81 320.21,-125.25 309.99,-128.05 313.97,-133.81\"/>\n",
              "</g>\n",
              "<!-- 3 -->\n",
              "<g id=\"node4\" class=\"node\">\n",
              "<title>3</title>\n",
              "<polygon fill=\"#c0c0c0\" stroke=\"black\" points=\"96.5,-36 42.5,-36 42.5,0 96.5,0 96.5,-36\"/>\n",
              "<text text-anchor=\"middle\" x=\"69.5\" y=\"-14.3\" font-family=\"Helvetica,sans-Serif\" font-size=\"14.00\">(...)</text>\n",
              "</g>\n",
              "<!-- 2&#45;&gt;3 -->\n",
              "<g id=\"edge3\" class=\"edge\">\n",
              "<title>2&#45;&gt;3</title>\n",
              "<path fill=\"none\" stroke=\"black\" d=\"M93.71,-71.8C89.84,-63.35 85.53,-53.95 81.63,-45.45\"/>\n",
              "<polygon fill=\"black\" stroke=\"black\" points=\"84.8,-43.96 77.45,-36.33 78.43,-46.88 84.8,-43.96\"/>\n",
              "</g>\n",
              "<!-- 4 -->\n",
              "<g id=\"node5\" class=\"node\">\n",
              "<title>4</title>\n",
              "<polygon fill=\"#c0c0c0\" stroke=\"black\" points=\"168.5,-36 114.5,-36 114.5,0 168.5,0 168.5,-36\"/>\n",
              "<text text-anchor=\"middle\" x=\"141.5\" y=\"-14.3\" font-family=\"Helvetica,sans-Serif\" font-size=\"14.00\">(...)</text>\n",
              "</g>\n",
              "<!-- 2&#45;&gt;4 -->\n",
              "<g id=\"edge4\" class=\"edge\">\n",
              "<title>2&#45;&gt;4</title>\n",
              "<path fill=\"none\" stroke=\"black\" d=\"M117.29,-71.8C121.16,-63.35 125.47,-53.95 129.37,-45.45\"/>\n",
              "<polygon fill=\"black\" stroke=\"black\" points=\"132.57,-46.88 133.55,-36.33 126.2,-43.96 132.57,-46.88\"/>\n",
              "</g>\n",
              "<!-- 12 -->\n",
              "<g id=\"node7\" class=\"node\">\n",
              "<title>12</title>\n",
              "<polygon fill=\"#c0c0c0\" stroke=\"black\" points=\"348.5,-36 294.5,-36 294.5,0 348.5,0 348.5,-36\"/>\n",
              "<text text-anchor=\"middle\" x=\"321.5\" y=\"-14.3\" font-family=\"Helvetica,sans-Serif\" font-size=\"14.00\">(...)</text>\n",
              "</g>\n",
              "<!-- 11&#45;&gt;12 -->\n",
              "<g id=\"edge6\" class=\"edge\">\n",
              "<title>11&#45;&gt;12</title>\n",
              "<path fill=\"none\" stroke=\"black\" d=\"M345.71,-71.8C341.84,-63.35 337.53,-53.95 333.63,-45.45\"/>\n",
              "<polygon fill=\"black\" stroke=\"black\" points=\"336.8,-43.96 329.45,-36.33 330.43,-46.88 336.8,-43.96\"/>\n",
              "</g>\n",
              "<!-- 47 -->\n",
              "<g id=\"node8\" class=\"node\">\n",
              "<title>47</title>\n",
              "<polygon fill=\"#c0c0c0\" stroke=\"black\" points=\"420.5,-36 366.5,-36 366.5,0 420.5,0 420.5,-36\"/>\n",
              "<text text-anchor=\"middle\" x=\"393.5\" y=\"-14.3\" font-family=\"Helvetica,sans-Serif\" font-size=\"14.00\">(...)</text>\n",
              "</g>\n",
              "<!-- 11&#45;&gt;47 -->\n",
              "<g id=\"edge7\" class=\"edge\">\n",
              "<title>11&#45;&gt;47</title>\n",
              "<path fill=\"none\" stroke=\"black\" d=\"M369.29,-71.8C373.16,-63.35 377.47,-53.95 381.37,-45.45\"/>\n",
              "<polygon fill=\"black\" stroke=\"black\" points=\"384.57,-46.88 385.55,-36.33 378.2,-43.96 384.57,-46.88\"/>\n",
              "</g>\n",
              "</g>\n",
              "</svg>\n"
            ],
            "text/plain": [
              "<graphviz.sources.Source at 0x7c8697b46c20>"
            ]
          },
          "metadata": {},
          "output_type": "display_data"
        },
        {
          "data": {
            "image/svg+xml": [
              "<?xml version=\"1.0\" encoding=\"UTF-8\" standalone=\"no\"?>\n",
              "<!DOCTYPE svg PUBLIC \"-//W3C//DTD SVG 1.1//EN\"\n",
              " \"http://www.w3.org/Graphics/SVG/1.1/DTD/svg11.dtd\">\n",
              "<!-- Generated by graphviz version 2.43.0 (0)\n",
              " -->\n",
              "<!-- Title: Tree Pages: 1 -->\n",
              "<svg width=\"598pt\" height=\"311pt\"\n",
              " viewBox=\"0.00 0.00 597.50 311.00\" xmlns=\"http://www.w3.org/2000/svg\" xmlns:xlink=\"http://www.w3.org/1999/xlink\">\n",
              "<g id=\"graph0\" class=\"graph\" transform=\"scale(1 1) rotate(0) translate(4 307)\">\n",
              "<title>Tree</title>\n",
              "<polygon fill=\"white\" stroke=\"transparent\" points=\"-4,4 -4,-307 593.5,-307 593.5,4 -4,4\"/>\n",
              "<!-- 0 -->\n",
              "<g id=\"node1\" class=\"node\">\n",
              "<title>0</title>\n",
              "<polygon fill=\"#f6bcea\" stroke=\"black\" points=\"493.5,-303 245.5,-303 245.5,-250 493.5,-250 493.5,-303\"/>\n",
              "<text text-anchor=\"middle\" x=\"369.5\" y=\"-287.8\" font-family=\"Helvetica,sans-Serif\" font-size=\"14.00\">Na_to_K &lt;= &#45;0.173</text>\n",
              "<text text-anchor=\"middle\" x=\"369.5\" y=\"-272.8\" font-family=\"Helvetica,sans-Serif\" font-size=\"14.00\">samples = 100.0%</text>\n",
              "<text text-anchor=\"middle\" x=\"369.5\" y=\"-257.8\" font-family=\"Helvetica,sans-Serif\" font-size=\"14.00\">value = [0.15, 0.125, 0.056, 0.2, 0.469]</text>\n",
              "</g>\n",
              "<!-- 1 -->\n",
              "<g id=\"node2\" class=\"node\">\n",
              "<title>1</title>\n",
              "<polygon fill=\"#e5e5fc\" stroke=\"black\" points=\"375.5,-214 119.5,-214 119.5,-161 375.5,-161 375.5,-214\"/>\n",
              "<text text-anchor=\"middle\" x=\"247.5\" y=\"-198.8\" font-family=\"Helvetica,sans-Serif\" font-size=\"14.00\">Cholesterol &lt;= 0.5</text>\n",
              "<text text-anchor=\"middle\" x=\"247.5\" y=\"-183.8\" font-family=\"Helvetica,sans-Serif\" font-size=\"14.00\">samples = 54.4%</text>\n",
              "<text text-anchor=\"middle\" x=\"247.5\" y=\"-168.8\" font-family=\"Helvetica,sans-Serif\" font-size=\"14.00\">value = [0.282, 0.235, 0.106, 0.376, 0.0]</text>\n",
              "</g>\n",
              "<!-- 0&#45;&gt;1 -->\n",
              "<g id=\"edge1\" class=\"edge\">\n",
              "<title>0&#45;&gt;1</title>\n",
              "<path fill=\"none\" stroke=\"black\" d=\"M333.56,-249.87C320.52,-240.57 305.63,-229.95 291.95,-220.2\"/>\n",
              "<polygon fill=\"black\" stroke=\"black\" points=\"293.78,-217.21 283.61,-214.25 289.72,-222.91 293.78,-217.21\"/>\n",
              "<text text-anchor=\"middle\" x=\"287.74\" y=\"-235.21\" font-family=\"Helvetica,sans-Serif\" font-size=\"14.00\">True</text>\n",
              "</g>\n",
              "<!-- 30 -->\n",
              "<g id=\"node9\" class=\"node\">\n",
              "<title>30</title>\n",
              "<polygon fill=\"#e539c0\" stroke=\"black\" points=\"589.5,-206.5 393.5,-206.5 393.5,-168.5 589.5,-168.5 589.5,-206.5\"/>\n",
              "<text text-anchor=\"middle\" x=\"491.5\" y=\"-191.3\" font-family=\"Helvetica,sans-Serif\" font-size=\"14.00\">samples = 45.6%</text>\n",
              "<text text-anchor=\"middle\" x=\"491.5\" y=\"-176.3\" font-family=\"Helvetica,sans-Serif\" font-size=\"14.00\">value = [0.0, 0.0, 0.0, 0.0, 1.0]</text>\n",
              "</g>\n",
              "<!-- 0&#45;&gt;30 -->\n",
              "<g id=\"edge8\" class=\"edge\">\n",
              "<title>0&#45;&gt;30</title>\n",
              "<path fill=\"none\" stroke=\"black\" d=\"M405.44,-249.87C422.08,-238 441.73,-223.99 458.05,-212.35\"/>\n",
              "<polygon fill=\"black\" stroke=\"black\" points=\"460.14,-215.16 466.25,-206.51 456.08,-209.46 460.14,-215.16\"/>\n",
              "<text text-anchor=\"middle\" x=\"462.12\" y=\"-227.46\" font-family=\"Helvetica,sans-Serif\" font-size=\"14.00\">False</text>\n",
              "</g>\n",
              "<!-- 2 -->\n",
              "<g id=\"node3\" class=\"node\">\n",
              "<title>2</title>\n",
              "<polygon fill=\"#effce8\" stroke=\"black\" points=\"241,-125 0,-125 0,-72 241,-72 241,-125\"/>\n",
              "<text text-anchor=\"middle\" x=\"120.5\" y=\"-109.8\" font-family=\"Helvetica,sans-Serif\" font-size=\"14.00\">Age &lt;= 0.314</text>\n",
              "<text text-anchor=\"middle\" x=\"120.5\" y=\"-94.8\" font-family=\"Helvetica,sans-Serif\" font-size=\"14.00\">samples = 28.2%</text>\n",
              "<text text-anchor=\"middle\" x=\"120.5\" y=\"-79.8\" font-family=\"Helvetica,sans-Serif\" font-size=\"14.00\">value = [0.222, 0.333, 0.2, 0.244, 0.0]</text>\n",
              "</g>\n",
              "<!-- 1&#45;&gt;2 -->\n",
              "<g id=\"edge2\" class=\"edge\">\n",
              "<title>1&#45;&gt;2</title>\n",
              "<path fill=\"none\" stroke=\"black\" d=\"M210.08,-160.87C196.38,-151.48 180.72,-140.75 166.37,-130.92\"/>\n",
              "<polygon fill=\"black\" stroke=\"black\" points=\"168.32,-128.01 158.09,-125.25 164.36,-133.79 168.32,-128.01\"/>\n",
              "</g>\n",
              "<!-- 17 -->\n",
              "<g id=\"node6\" class=\"node\">\n",
              "<title>17</title>\n",
              "<polygon fill=\"#cacaf8\" stroke=\"black\" points=\"492,-125 259,-125 259,-72 492,-72 492,-125\"/>\n",
              "<text text-anchor=\"middle\" x=\"375.5\" y=\"-109.8\" font-family=\"Helvetica,sans-Serif\" font-size=\"14.00\">Age &lt;= 0.375</text>\n",
              "<text text-anchor=\"middle\" x=\"375.5\" y=\"-94.8\" font-family=\"Helvetica,sans-Serif\" font-size=\"14.00\">samples = 26.2%</text>\n",
              "<text text-anchor=\"middle\" x=\"375.5\" y=\"-79.8\" font-family=\"Helvetica,sans-Serif\" font-size=\"14.00\">value = [0.35, 0.125, 0.0, 0.525, 0.0]</text>\n",
              "</g>\n",
              "<!-- 1&#45;&gt;17 -->\n",
              "<g id=\"edge5\" class=\"edge\">\n",
              "<title>1&#45;&gt;17</title>\n",
              "<path fill=\"none\" stroke=\"black\" d=\"M285.21,-160.87C299.02,-151.48 314.81,-140.75 329.27,-130.92\"/>\n",
              "<polygon fill=\"black\" stroke=\"black\" points=\"331.31,-133.77 337.62,-125.25 327.38,-127.98 331.31,-133.77\"/>\n",
              "</g>\n",
              "<!-- 3 -->\n",
              "<g id=\"node4\" class=\"node\">\n",
              "<title>3</title>\n",
              "<polygon fill=\"#c0c0c0\" stroke=\"black\" points=\"111.5,-36 57.5,-36 57.5,0 111.5,0 111.5,-36\"/>\n",
              "<text text-anchor=\"middle\" x=\"84.5\" y=\"-14.3\" font-family=\"Helvetica,sans-Serif\" font-size=\"14.00\">(...)</text>\n",
              "</g>\n",
              "<!-- 2&#45;&gt;3 -->\n",
              "<g id=\"edge3\" class=\"edge\">\n",
              "<title>2&#45;&gt;3</title>\n",
              "<path fill=\"none\" stroke=\"black\" d=\"M108.71,-71.8C104.84,-63.35 100.53,-53.95 96.63,-45.45\"/>\n",
              "<polygon fill=\"black\" stroke=\"black\" points=\"99.8,-43.96 92.45,-36.33 93.43,-46.88 99.8,-43.96\"/>\n",
              "</g>\n",
              "<!-- 12 -->\n",
              "<g id=\"node5\" class=\"node\">\n",
              "<title>12</title>\n",
              "<polygon fill=\"#c0c0c0\" stroke=\"black\" points=\"183.5,-36 129.5,-36 129.5,0 183.5,0 183.5,-36\"/>\n",
              "<text text-anchor=\"middle\" x=\"156.5\" y=\"-14.3\" font-family=\"Helvetica,sans-Serif\" font-size=\"14.00\">(...)</text>\n",
              "</g>\n",
              "<!-- 2&#45;&gt;12 -->\n",
              "<g id=\"edge4\" class=\"edge\">\n",
              "<title>2&#45;&gt;12</title>\n",
              "<path fill=\"none\" stroke=\"black\" d=\"M132.29,-71.8C136.16,-63.35 140.47,-53.95 144.37,-45.45\"/>\n",
              "<polygon fill=\"black\" stroke=\"black\" points=\"147.57,-46.88 148.55,-36.33 141.2,-43.96 147.57,-46.88\"/>\n",
              "</g>\n",
              "<!-- 18 -->\n",
              "<g id=\"node7\" class=\"node\">\n",
              "<title>18</title>\n",
              "<polygon fill=\"#c0c0c0\" stroke=\"black\" points=\"366.5,-36 312.5,-36 312.5,0 366.5,0 366.5,-36\"/>\n",
              "<text text-anchor=\"middle\" x=\"339.5\" y=\"-14.3\" font-family=\"Helvetica,sans-Serif\" font-size=\"14.00\">(...)</text>\n",
              "</g>\n",
              "<!-- 17&#45;&gt;18 -->\n",
              "<g id=\"edge6\" class=\"edge\">\n",
              "<title>17&#45;&gt;18</title>\n",
              "<path fill=\"none\" stroke=\"black\" d=\"M363.71,-71.8C359.84,-63.35 355.53,-53.95 351.63,-45.45\"/>\n",
              "<polygon fill=\"black\" stroke=\"black\" points=\"354.8,-43.96 347.45,-36.33 348.43,-46.88 354.8,-43.96\"/>\n",
              "</g>\n",
              "<!-- 27 -->\n",
              "<g id=\"node8\" class=\"node\">\n",
              "<title>27</title>\n",
              "<polygon fill=\"#c0c0c0\" stroke=\"black\" points=\"438.5,-36 384.5,-36 384.5,0 438.5,0 438.5,-36\"/>\n",
              "<text text-anchor=\"middle\" x=\"411.5\" y=\"-14.3\" font-family=\"Helvetica,sans-Serif\" font-size=\"14.00\">(...)</text>\n",
              "</g>\n",
              "<!-- 17&#45;&gt;27 -->\n",
              "<g id=\"edge7\" class=\"edge\">\n",
              "<title>17&#45;&gt;27</title>\n",
              "<path fill=\"none\" stroke=\"black\" d=\"M387.29,-71.8C391.16,-63.35 395.47,-53.95 399.37,-45.45\"/>\n",
              "<polygon fill=\"black\" stroke=\"black\" points=\"402.57,-46.88 403.55,-36.33 396.2,-43.96 402.57,-46.88\"/>\n",
              "</g>\n",
              "</g>\n",
              "</svg>\n"
            ],
            "text/plain": [
              "<graphviz.sources.Source at 0x7c8697b47610>"
            ]
          },
          "metadata": {},
          "output_type": "display_data"
        }
      ],
      "source": [
        "for i in range(5):\n",
        "    tree = rf.estimators_[i]\n",
        "    dot_data = export_graphviz(tree,\n",
        "                               feature_names=x_train.columns,\n",
        "                               filled=True,\n",
        "                               max_depth=2,\n",
        "                               impurity=False,\n",
        "                               proportion=True)\n",
        "    graph = graphviz.Source(dot_data)\n",
        "    display(graph)"
      ]
    },
    {
      "cell_type": "markdown",
      "metadata": {
        "id": "f4GVxwHqkb5j"
      },
      "source": [
        "**Xgboost**\n"
      ]
    },
    {
      "cell_type": "code",
      "execution_count": 121,
      "metadata": {
        "colab": {
          "base_uri": "https://localhost:8080/"
        },
        "id": "-IZw3dmMqcZU",
        "outputId": "448c2c89-6ad9-4be2-85bf-b3ca485c891a"
      },
      "outputs": [
        {
          "name": "stdout",
          "output_type": "stream",
          "text": [
            "XGBoost Accuracy: 0.975\n",
            "Confusion Matrix:\n",
            "[[ 6  0  0  0  0]\n",
            " [ 0  3  0  0  0]\n",
            " [ 0  0  4  1  0]\n",
            " [ 0  0  0 11  0]\n",
            " [ 0  0  0  0 15]]\n",
            "Classification Report:\n",
            "              precision    recall  f1-score   support\n",
            "\n",
            "       drugA       1.00      1.00      1.00         6\n",
            "       drugB       1.00      1.00      1.00         3\n",
            "       drugC       1.00      0.80      0.89         5\n",
            "       drugX       0.92      1.00      0.96        11\n",
            "       drugY       1.00      1.00      1.00        15\n",
            "\n",
            "    accuracy                           0.97        40\n",
            "   macro avg       0.98      0.96      0.97        40\n",
            "weighted avg       0.98      0.97      0.97        40\n",
            "\n"
          ]
        }
      ],
      "source": [
        "import pandas as pd\n",
        "from sklearn.model_selection import train_test_split\n",
        "from xgboost import XGBClassifier\n",
        "from sklearn.metrics import accuracy_score, classification_report\n",
        "from sklearn.preprocessing import LabelEncoder\n",
        "\n",
        "X = data.drop('Drug', axis=1)\n",
        "y = data['Drug']\n",
        "\n",
        "# Encode target variable\n",
        "label_encoder = LabelEncoder()\n",
        "y_encoded = label_encoder.fit_transform(y)\n",
        "X_train, X_test, y_train, y_test = train_test_split(X, y_encoded, test_size=0.2, random_state=42)\n",
        "xgb_model = XGBClassifier(random_state=42)\n",
        "\n",
        "xgb_model.fit(X_train, y_train)\n",
        "xgb_predictions = xgb_model.predict(X_test)\n",
        "# Decode predicted labels\n",
        "y_test_decoded = label_encoder.inverse_transform(y_test)\n",
        "xgb_predictions_decoded = label_encoder.inverse_transform(xgb_predictions)\n",
        "xgb_accuracy = accuracy_score(y_test, xgb_predictions)\n",
        "print(f\"XGBoost Accuracy: {xgb_accuracy}\")\n",
        "print(\"Confusion Matrix:\")\n",
        "print(confusion_matrix(y_test, xgb_predictions))\n",
        "print(\"Classification Report:\")\n",
        "print(classification_report(y_test_decoded, xgb_predictions_decoded))\n"
      ]
    },
    {
      "cell_type": "markdown",
      "metadata": {
        "id": "Ue7NLSo7kmTO"
      },
      "source": [
        "**Catboost**\n"
      ]
    },
    {
      "cell_type": "code",
      "execution_count": 119,
      "metadata": {
        "colab": {
          "base_uri": "https://localhost:8080/"
        },
        "id": "gJkpg1ZTkikM",
        "outputId": "107f12a9-92e7-47f2-ba8a-cfa9775805d2"
      },
      "outputs": [
        {
          "name": "stdout",
          "output_type": "stream",
          "text": [
            "CatBoost Accuracy: 1.0\n",
            "Confusion Matrix:\n",
            "[[ 6  0  0  0  0]\n",
            " [ 0  3  0  0  0]\n",
            " [ 0  0  5  0  0]\n",
            " [ 0  0  0 11  0]\n",
            " [ 0  0  0  0 15]]\n",
            "Classification Report:\n",
            "              precision    recall  f1-score   support\n",
            "\n",
            "           0       1.00      1.00      1.00         6\n",
            "           1       1.00      1.00      1.00         3\n",
            "           2       1.00      1.00      1.00         5\n",
            "           3       1.00      1.00      1.00        11\n",
            "           4       1.00      1.00      1.00        15\n",
            "\n",
            "    accuracy                           1.00        40\n",
            "   macro avg       1.00      1.00      1.00        40\n",
            "weighted avg       1.00      1.00      1.00        40\n",
            "\n"
          ]
        }
      ],
      "source": [
        "cat_model = CatBoostClassifier(random_state=42, verbose=False)\n",
        "\n",
        "cat_model.fit(x_train, y_train)\n",
        "\n",
        "cat_predictions = cat_model.predict(x_test)\n",
        "\n",
        "cat_accuracy = accuracy_score(y_test, cat_predictions)\n",
        "print(f\"CatBoost Accuracy: {cat_accuracy}\")\n",
        "print(\"Confusion Matrix:\")\n",
        "print(confusion_matrix(y_test, cat_predictions))\n",
        "print(\"Classification Report:\")\n",
        "print(classification_report(y_test, cat_predictions))\n"
      ]
    },
    {
      "cell_type": "markdown",
      "metadata": {
        "id": "DnZPe4_l1sKX"
      },
      "source": [
        "**Ensemble methods**"
      ]
    },
    {
      "cell_type": "code",
      "execution_count": 113,
      "metadata": {
        "id": "I1IpIgJbXWZV"
      },
      "outputs": [],
      "source": [
        "from sklearn.ensemble import VotingClassifier\n",
        "from sklearn.metrics import accuracy_score, classification_report\n",
        "from sklearn.preprocessing import LabelEncoder\n",
        "xgb_model = XGBClassifier(random_state=42)\n",
        "cat_model = CatBoostClassifier(random_state=42, verbose=False)\n",
        "ensemble_model = VotingClassifier(estimators=[\n",
        "    ('xgb', xgb_model),\n",
        "    ('cat', cat_model)\n",
        "], voting='hard')\n"
      ]
    },
    {
      "cell_type": "code",
      "execution_count": 114,
      "metadata": {
        "colab": {
          "base_uri": "https://localhost:8080/",
          "height": 108
        },
        "id": "TD944qLfXawt",
        "outputId": "acf64cf5-45e8-481f-bab8-621a0c300514"
      },
      "outputs": [
        {
          "data": {
            "text/html": [
              "<style>#sk-container-id-6 {color: black;background-color: white;}#sk-container-id-6 pre{padding: 0;}#sk-container-id-6 div.sk-toggleable {background-color: white;}#sk-container-id-6 label.sk-toggleable__label {cursor: pointer;display: block;width: 100%;margin-bottom: 0;padding: 0.3em;box-sizing: border-box;text-align: center;}#sk-container-id-6 label.sk-toggleable__label-arrow:before {content: \"▸\";float: left;margin-right: 0.25em;color: #696969;}#sk-container-id-6 label.sk-toggleable__label-arrow:hover:before {color: black;}#sk-container-id-6 div.sk-estimator:hover label.sk-toggleable__label-arrow:before {color: black;}#sk-container-id-6 div.sk-toggleable__content {max-height: 0;max-width: 0;overflow: hidden;text-align: left;background-color: #f0f8ff;}#sk-container-id-6 div.sk-toggleable__content pre {margin: 0.2em;color: black;border-radius: 0.25em;background-color: #f0f8ff;}#sk-container-id-6 input.sk-toggleable__control:checked~div.sk-toggleable__content {max-height: 200px;max-width: 100%;overflow: auto;}#sk-container-id-6 input.sk-toggleable__control:checked~label.sk-toggleable__label-arrow:before {content: \"▾\";}#sk-container-id-6 div.sk-estimator input.sk-toggleable__control:checked~label.sk-toggleable__label {background-color: #d4ebff;}#sk-container-id-6 div.sk-label input.sk-toggleable__control:checked~label.sk-toggleable__label {background-color: #d4ebff;}#sk-container-id-6 input.sk-hidden--visually {border: 0;clip: rect(1px 1px 1px 1px);clip: rect(1px, 1px, 1px, 1px);height: 1px;margin: -1px;overflow: hidden;padding: 0;position: absolute;width: 1px;}#sk-container-id-6 div.sk-estimator {font-family: monospace;background-color: #f0f8ff;border: 1px dotted black;border-radius: 0.25em;box-sizing: border-box;margin-bottom: 0.5em;}#sk-container-id-6 div.sk-estimator:hover {background-color: #d4ebff;}#sk-container-id-6 div.sk-parallel-item::after {content: \"\";width: 100%;border-bottom: 1px solid gray;flex-grow: 1;}#sk-container-id-6 div.sk-label:hover label.sk-toggleable__label {background-color: #d4ebff;}#sk-container-id-6 div.sk-serial::before {content: \"\";position: absolute;border-left: 1px solid gray;box-sizing: border-box;top: 0;bottom: 0;left: 50%;z-index: 0;}#sk-container-id-6 div.sk-serial {display: flex;flex-direction: column;align-items: center;background-color: white;padding-right: 0.2em;padding-left: 0.2em;position: relative;}#sk-container-id-6 div.sk-item {position: relative;z-index: 1;}#sk-container-id-6 div.sk-parallel {display: flex;align-items: stretch;justify-content: center;background-color: white;position: relative;}#sk-container-id-6 div.sk-item::before, #sk-container-id-6 div.sk-parallel-item::before {content: \"\";position: absolute;border-left: 1px solid gray;box-sizing: border-box;top: 0;bottom: 0;left: 50%;z-index: -1;}#sk-container-id-6 div.sk-parallel-item {display: flex;flex-direction: column;z-index: 1;position: relative;background-color: white;}#sk-container-id-6 div.sk-parallel-item:first-child::after {align-self: flex-end;width: 50%;}#sk-container-id-6 div.sk-parallel-item:last-child::after {align-self: flex-start;width: 50%;}#sk-container-id-6 div.sk-parallel-item:only-child::after {width: 0;}#sk-container-id-6 div.sk-dashed-wrapped {border: 1px dashed gray;margin: 0 0.4em 0.5em 0.4em;box-sizing: border-box;padding-bottom: 0.4em;background-color: white;}#sk-container-id-6 div.sk-label label {font-family: monospace;font-weight: bold;display: inline-block;line-height: 1.2em;}#sk-container-id-6 div.sk-label-container {text-align: center;}#sk-container-id-6 div.sk-container {/* jupyter's `normalize.less` sets `[hidden] { display: none; }` but bootstrap.min.css set `[hidden] { display: none !important; }` so we also need the `!important` here to be able to override the default hidden behavior on the sphinx rendered scikit-learn.org. See: https://github.com/scikit-learn/scikit-learn/issues/21755 */display: inline-block !important;position: relative;}#sk-container-id-6 div.sk-text-repr-fallback {display: none;}</style><div id=\"sk-container-id-6\" class=\"sk-top-container\"><div class=\"sk-text-repr-fallback\"><pre>VotingClassifier(estimators=[(&#x27;xgb&#x27;,\n",
              "                              XGBClassifier(base_score=None, booster=None,\n",
              "                                            callbacks=None,\n",
              "                                            colsample_bylevel=None,\n",
              "                                            colsample_bynode=None,\n",
              "                                            colsample_bytree=None, device=None,\n",
              "                                            early_stopping_rounds=None,\n",
              "                                            enable_categorical=False,\n",
              "                                            eval_metric=None,\n",
              "                                            feature_types=None, gamma=None,\n",
              "                                            grow_policy=None,\n",
              "                                            importance_type=None,\n",
              "                                            interaction_constraints=None,\n",
              "                                            learning_rate=None, max_bin=None,\n",
              "                                            max_cat_threshold=None,\n",
              "                                            max_cat_to_onehot=None,\n",
              "                                            max_delta_step=None, max_depth=None,\n",
              "                                            max_leaves=None,\n",
              "                                            min_child_weight=None, missing=nan,\n",
              "                                            monotone_constraints=None,\n",
              "                                            multi_strategy=None,\n",
              "                                            n_estimators=None, n_jobs=None,\n",
              "                                            num_parallel_tree=None,\n",
              "                                            random_state=42, ...)),\n",
              "                             (&#x27;cat&#x27;,\n",
              "                              &lt;catboost.core.CatBoostClassifier object at 0x7c87041ed4b0&gt;)])</pre><b>In a Jupyter environment, please rerun this cell to show the HTML representation or trust the notebook. <br />On GitHub, the HTML representation is unable to render, please try loading this page with nbviewer.org.</b></div><div class=\"sk-container\" hidden><div class=\"sk-item sk-dashed-wrapped\"><div class=\"sk-label-container\"><div class=\"sk-label sk-toggleable\"><input class=\"sk-toggleable__control sk-hidden--visually\" id=\"sk-estimator-id-8\" type=\"checkbox\" ><label for=\"sk-estimator-id-8\" class=\"sk-toggleable__label sk-toggleable__label-arrow\">VotingClassifier</label><div class=\"sk-toggleable__content\"><pre>VotingClassifier(estimators=[(&#x27;xgb&#x27;,\n",
              "                              XGBClassifier(base_score=None, booster=None,\n",
              "                                            callbacks=None,\n",
              "                                            colsample_bylevel=None,\n",
              "                                            colsample_bynode=None,\n",
              "                                            colsample_bytree=None, device=None,\n",
              "                                            early_stopping_rounds=None,\n",
              "                                            enable_categorical=False,\n",
              "                                            eval_metric=None,\n",
              "                                            feature_types=None, gamma=None,\n",
              "                                            grow_policy=None,\n",
              "                                            importance_type=None,\n",
              "                                            interaction_constraints=None,\n",
              "                                            learning_rate=None, max_bin=None,\n",
              "                                            max_cat_threshold=None,\n",
              "                                            max_cat_to_onehot=None,\n",
              "                                            max_delta_step=None, max_depth=None,\n",
              "                                            max_leaves=None,\n",
              "                                            min_child_weight=None, missing=nan,\n",
              "                                            monotone_constraints=None,\n",
              "                                            multi_strategy=None,\n",
              "                                            n_estimators=None, n_jobs=None,\n",
              "                                            num_parallel_tree=None,\n",
              "                                            random_state=42, ...)),\n",
              "                             (&#x27;cat&#x27;,\n",
              "                              &lt;catboost.core.CatBoostClassifier object at 0x7c87041ed4b0&gt;)])</pre></div></div></div><div class=\"sk-parallel\"><div class=\"sk-parallel-item\"><div class=\"sk-item\"><div class=\"sk-label-container\"><div class=\"sk-label sk-toggleable\"><label>xgb</label></div></div><div class=\"sk-serial\"><div class=\"sk-item\"><div class=\"sk-estimator sk-toggleable\"><input class=\"sk-toggleable__control sk-hidden--visually\" id=\"sk-estimator-id-9\" type=\"checkbox\" ><label for=\"sk-estimator-id-9\" class=\"sk-toggleable__label sk-toggleable__label-arrow\">XGBClassifier</label><div class=\"sk-toggleable__content\"><pre>XGBClassifier(base_score=None, booster=None, callbacks=None,\n",
              "              colsample_bylevel=None, colsample_bynode=None,\n",
              "              colsample_bytree=None, device=None, early_stopping_rounds=None,\n",
              "              enable_categorical=False, eval_metric=None, feature_types=None,\n",
              "              gamma=None, grow_policy=None, importance_type=None,\n",
              "              interaction_constraints=None, learning_rate=None, max_bin=None,\n",
              "              max_cat_threshold=None, max_cat_to_onehot=None,\n",
              "              max_delta_step=None, max_depth=None, max_leaves=None,\n",
              "              min_child_weight=None, missing=nan, monotone_constraints=None,\n",
              "              multi_strategy=None, n_estimators=None, n_jobs=None,\n",
              "              num_parallel_tree=None, random_state=42, ...)</pre></div></div></div></div></div></div><div class=\"sk-parallel-item\"><div class=\"sk-item\"><div class=\"sk-label-container\"><div class=\"sk-label sk-toggleable\"><label>cat</label></div></div><div class=\"sk-serial\"><div class=\"sk-item\"><div class=\"sk-estimator sk-toggleable\"><input class=\"sk-toggleable__control sk-hidden--visually\" id=\"sk-estimator-id-10\" type=\"checkbox\" ><label for=\"sk-estimator-id-10\" class=\"sk-toggleable__label sk-toggleable__label-arrow\">CatBoostClassifier</label><div class=\"sk-toggleable__content\"><pre>&lt;catboost.core.CatBoostClassifier object at 0x7c87041ed4b0&gt;</pre></div></div></div></div></div></div></div></div></div></div>"
            ],
            "text/plain": [
              "VotingClassifier(estimators=[('xgb',\n",
              "                              XGBClassifier(base_score=None, booster=None,\n",
              "                                            callbacks=None,\n",
              "                                            colsample_bylevel=None,\n",
              "                                            colsample_bynode=None,\n",
              "                                            colsample_bytree=None, device=None,\n",
              "                                            early_stopping_rounds=None,\n",
              "                                            enable_categorical=False,\n",
              "                                            eval_metric=None,\n",
              "                                            feature_types=None, gamma=None,\n",
              "                                            grow_policy=None,\n",
              "                                            importance_type=None,\n",
              "                                            interaction_constraints=None,\n",
              "                                            learning_rate=None, max_bin=None,\n",
              "                                            max_cat_threshold=None,\n",
              "                                            max_cat_to_onehot=None,\n",
              "                                            max_delta_step=None, max_depth=None,\n",
              "                                            max_leaves=None,\n",
              "                                            min_child_weight=None, missing=nan,\n",
              "                                            monotone_constraints=None,\n",
              "                                            multi_strategy=None,\n",
              "                                            n_estimators=None, n_jobs=None,\n",
              "                                            num_parallel_tree=None,\n",
              "                                            random_state=42, ...)),\n",
              "                             ('cat',\n",
              "                              <catboost.core.CatBoostClassifier object at 0x7c87041ed4b0>)])"
            ]
          },
          "execution_count": 114,
          "metadata": {},
          "output_type": "execute_result"
        }
      ],
      "source": [
        "ensemble_model.fit(X_train, y_train)\n"
      ]
    },
    {
      "cell_type": "code",
      "execution_count": 115,
      "metadata": {
        "colab": {
          "base_uri": "https://localhost:8080/"
        },
        "id": "foRm7q5CZJdk",
        "outputId": "97156b0e-ba63-4a53-fe06-0b092521dce4"
      },
      "outputs": [
        {
          "name": "stdout",
          "output_type": "stream",
          "text": [
            "X_test shape: (40, 5)\n"
          ]
        }
      ],
      "source": [
        "# Predictions on the test set\n",
        "print(\"X_test shape:\", X_test.shape)\n"
      ]
    },
    {
      "cell_type": "code",
      "execution_count": 116,
      "metadata": {
        "id": "XZ8adV9dYBpj"
      },
      "outputs": [],
      "source": [
        "ensemble_predictions = []\n",
        "for model in ensemble_model.estimators_:\n",
        "    predictions = model.predict(X_test)\n",
        "    ensemble_predictions.append(predictions.flatten())\n",
        "\n",
        "# Convert predictions to a NumPy array\n",
        "ensemble_predictions = np.vstack(ensemble_predictions).T\n",
        "\n",
        "# Use a simple majority vote for classification\n",
        "final_predictions = np.median(ensemble_predictions, axis=1).astype(int)\n"
      ]
    },
    {
      "cell_type": "code",
      "execution_count": 117,
      "metadata": {
        "id": "l2boo6exYQmF"
      },
      "outputs": [],
      "source": [
        "y_test_decoded = label_encoder.inverse_transform(y_test)\n",
        "final_predictions_decoded = label_encoder.inverse_transform(final_predictions)\n",
        "\n"
      ]
    },
    {
      "cell_type": "code",
      "execution_count": 120,
      "metadata": {
        "colab": {
          "base_uri": "https://localhost:8080/"
        },
        "id": "R4gT1jcyYUWS",
        "outputId": "9cd12e7e-a5e6-4964-ca61-c11e78afda3a"
      },
      "outputs": [
        {
          "name": "stdout",
          "output_type": "stream",
          "text": [
            "Ensemble Accuracy: 1.0\n",
            "Confusion Matrix:\n",
            "[[ 6  0  0  0  0]\n",
            " [ 0  3  0  0  0]\n",
            " [ 0  0  5  0  0]\n",
            " [ 0  0  0 11  0]\n",
            " [ 0  0  0  0 15]]\n",
            "Classification Report:\n",
            "              precision    recall  f1-score   support\n",
            "\n",
            "       drugA       1.00      1.00      1.00         6\n",
            "       drugB       1.00      1.00      1.00         3\n",
            "       drugC       1.00      1.00      1.00         5\n",
            "       drugX       1.00      1.00      1.00        11\n",
            "       drugY       1.00      1.00      1.00        15\n",
            "\n",
            "    accuracy                           1.00        40\n",
            "   macro avg       1.00      1.00      1.00        40\n",
            "weighted avg       1.00      1.00      1.00        40\n",
            "\n"
          ]
        }
      ],
      "source": [
        "ensemble_accuracy = accuracy_score(y_test, final_predictions)\n",
        "print(f\"Ensemble Accuracy: {ensemble_accuracy}\")\n",
        "print(\"Confusion Matrix:\")\n",
        "print(confusion_matrix(y_test, final_predictions))\n",
        "print(\"Classification Report:\")\n",
        "print(classification_report(y_test_decoded, final_predictions_decoded))"
      ]
    }
  ],
  "metadata": {
    "colab": {
      "provenance": []
    },
    "kernelspec": {
      "display_name": "Python 3",
      "name": "python3"
    },
    "language_info": {
      "name": "python"
    }
  },
  "nbformat": 4,
  "nbformat_minor": 0
}
